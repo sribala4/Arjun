{
 "cells": [
  {
   "cell_type": "code",
   "execution_count": 1,
   "id": "cc46d8c0",
   "metadata": {},
   "outputs": [],
   "source": [
    "import numpy as np\n",
    "\n",
    "x1 = [10,8,15] # Adj\n",
    "x2 = [8,20,25] # Stores\n",
    "y  =[30,15,20] # Sales\n",
    "\n",
    "n = len(y)"
   ]
  },
  {
   "cell_type": "code",
   "execution_count": 2,
   "id": "a4f9672b",
   "metadata": {},
   "outputs": [],
   "source": [
    "random_init = np.random.randint(-100,100,3)\n",
    "w1 = random_init[0]\n",
    "w2 = random_init[1]\n",
    "b = random_init[2] \n"
   ]
  },
  {
   "cell_type": "code",
   "execution_count": 3,
   "id": "d94df590",
   "metadata": {},
   "outputs": [
    {
     "data": {
      "text/plain": [
       "(-89, 81, 15)"
      ]
     },
     "execution_count": 3,
     "metadata": {},
     "output_type": "execute_result"
    }
   ],
   "source": [
    "w1,w2,b"
   ]
  },
  {
   "cell_type": "code",
   "execution_count": 4,
   "id": "a8ba8d3e",
   "metadata": {},
   "outputs": [],
   "source": [
    "y_pred = list()\n",
    "total_error = 0\n",
    "for i in range(n):\n",
    "    y_hat = w1* x1[i] + w2* x2[i] + b\n",
    "    y_pred.append(y_hat)\n",
    "    \n",
    "    E = (y[i]  -  y_hat)**2\n",
    "    total_error**E\n",
    "    "
   ]
  },
  {
   "cell_type": "code",
   "execution_count": 5,
   "id": "1ce27d65",
   "metadata": {},
   "outputs": [
    {
     "data": {
      "text/plain": [
       "[-227, 923, 705]"
      ]
     },
     "execution_count": 5,
     "metadata": {},
     "output_type": "execute_result"
    }
   ],
   "source": [
    "y_pred"
   ]
  },
  {
   "cell_type": "code",
   "execution_count": 6,
   "id": "7c8fb985",
   "metadata": {},
   "outputs": [
    {
     "data": {
      "text/plain": [
       "0"
      ]
     },
     "execution_count": 6,
     "metadata": {},
     "output_type": "execute_result"
    }
   ],
   "source": [
    "total_error"
   ]
  },
  {
   "cell_type": "code",
   "execution_count": 1,
   "id": "4559840f",
   "metadata": {},
   "outputs": [],
   "source": [
    "alpha = 0.1"
   ]
  },
  {
   "cell_type": "code",
   "execution_count": 1,
   "id": "13e9a5e6",
   "metadata": {},
   "outputs": [
    {
     "ename": "SyntaxError",
     "evalue": "invalid syntax (1001044931.py, line 1)",
     "output_type": "error",
     "traceback": [
      "\u001b[1;36m  Cell \u001b[1;32mIn[1], line 1\u001b[1;36m\u001b[0m\n\u001b[1;33m    for i in range(n)=\u001b[0m\n\u001b[1;37m                     ^\u001b[0m\n\u001b[1;31mSyntaxError\u001b[0m\u001b[1;31m:\u001b[0m invalid syntax\n"
     ]
    }
   ],
   "source": [
    "for i in range(n)=\n",
    "   de_dw1 = -2  *  x1[i]  * (y[i].y_pred[i]) \n",
    "   de_dw2 = -2  *  x2[i]  * (y[i].y_pred[i]) \n",
    "  \n",
    "   W1  =* alpha * de_dw1\n",
    "   w2  =* alpha * de_dw2\n",
    "   b   =* alpha * de_db"
   ]
  },
  {
   "cell_type": "code",
   "execution_count": null,
   "id": "bad66d1b",
   "metadata": {},
   "outputs": [],
   "source": []
  }
 ],
 "metadata": {
  "kernelspec": {
   "display_name": "Python 3 (ipykernel)",
   "language": "python",
   "name": "python3"
  },
  "language_info": {
   "codemirror_mode": {
    "name": "ipython",
    "version": 3
   },
   "file_extension": ".py",
   "mimetype": "text/x-python",
   "name": "python",
   "nbconvert_exporter": "python",
   "pygments_lexer": "ipython3",
   "version": "3.10.9"
  }
 },
 "nbformat": 4,
 "nbformat_minor": 5
}
