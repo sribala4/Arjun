{
 "cells": [
  {
   "cell_type": "code",
   "execution_count": 1,
   "id": "1fd07722",
   "metadata": {},
   "outputs": [],
   "source": [
    "import numpy as np\n",
    "\n",
    "x1 = [10, 8, 15]# Ads\n",
    "x2 = [8, 20, 25]# Stores\n",
    "y = [30, 15, 20]# Sales\n",
    "\n",
    "n = len(y)"
   ]
  },
  {
   "cell_type": "code",
   "execution_count": 2,
   "id": "4cc886d8",
   "metadata": {},
   "outputs": [],
   "source": [
    "def forward_pass(w1, w2, b):\n",
    "    y_pred = list()\n",
    "    total_error = 0\n",
    "    for i in range(n):\n",
    "        y_hat = w1* x1[i] + w2* x2[i] + b\n",
    "        y_pred.append(y_hat)\n",
    "\n",
    "        E = (y[i] - y_hat)**2\n",
    "        total_error+=E\n",
    "    return y_pred, total_error"
   ]
  },
  {
   "cell_type": "code",
   "execution_count": 3,
   "id": "c9c30d85",
   "metadata": {},
   "outputs": [],
   "source": [
    "def weight_update(w1, w2, b, y_pred):\n",
    "    for i in range(n):\n",
    "        de_dw1 = -2 * x1[i] * (y[i]-y_pred[i])\n",
    "        de_dw2 = -2 * x2[i] * (y[i]-y_pred[i])\n",
    "        de_db = -2 * (y[i]-y_pred[i])\n",
    "\n",
    "        w1 -= alpha * de_dw1\n",
    "        w2 -= alpha * de_dw2\n",
    "        b -= alpha * de_db\n",
    "    return w1, w2, b"
   ]
  },
  {
   "cell_type": "code",
   "execution_count": 4,
   "id": "4eb3665b",
   "metadata": {},
   "outputs": [
    {
     "data": {
      "text/plain": [
       "(2.0272135804408067, 0.7824938494461179, -1.1670242781280205, 0.0005)"
      ]
     },
     "execution_count": 4,
     "metadata": {},
     "output_type": "execute_result"
    }
   ],
   "source": [
    "random_init = np.random.randn(3)\n",
    "w1 = random_init[0]\n",
    "w2 = random_init[1]\n",
    "b = random_init[2]\n",
    "\n",
    "alpha = 0.0005\n",
    "epochs = 100\n",
    "\n",
    "w1, w2, b, alpha\n"
   ]
  },
  {
   "cell_type": "code",
   "execution_count": 5,
   "id": "1bffc52d",
   "metadata": {},
   "outputs": [
    {
     "name": "stdout",
     "output_type": "stream",
     "text": [
      "Epoch#:0 | Error = 1097.63\n",
      "Epoch#:1 | Error = 400.3\n",
      "Epoch#:2 | Error = 254.33\n",
      "Epoch#:3 | Error = 219.99\n",
      "Epoch#:4 | Error = 208.49\n",
      "Epoch#:5 | Error = 201.87\n",
      "Epoch#:6 | Error = 196.51\n",
      "Epoch#:7 | Error = 191.65\n",
      "Epoch#:8 | Error = 187.12\n",
      "Epoch#:9 | Error = 182.88\n",
      "Epoch#:10 | Error = 178.89\n",
      "Epoch#:11 | Error = 175.16\n",
      "Epoch#:12 | Error = 171.65\n",
      "Epoch#:13 | Error = 168.35\n",
      "Epoch#:14 | Error = 165.26\n",
      "Epoch#:15 | Error = 162.36\n",
      "Epoch#:16 | Error = 159.63\n",
      "Epoch#:17 | Error = 157.07\n",
      "Epoch#:18 | Error = 154.66\n",
      "Epoch#:19 | Error = 152.41\n",
      "Epoch#:20 | Error = 150.28\n",
      "Epoch#:21 | Error = 148.29\n",
      "Epoch#:22 | Error = 146.42\n",
      "Epoch#:23 | Error = 144.66\n",
      "Epoch#:24 | Error = 143.01\n",
      "Epoch#:25 | Error = 141.46\n",
      "Epoch#:26 | Error = 140.0\n",
      "Epoch#:27 | Error = 138.62\n",
      "Epoch#:28 | Error = 137.33\n",
      "Epoch#:29 | Error = 136.12\n",
      "Epoch#:30 | Error = 134.98\n",
      "Epoch#:31 | Error = 133.91\n",
      "Epoch#:32 | Error = 132.9\n",
      "Epoch#:33 | Error = 131.95\n",
      "Epoch#:34 | Error = 131.06\n",
      "Epoch#:35 | Error = 130.22\n",
      "Epoch#:36 | Error = 129.43\n",
      "Epoch#:37 | Error = 128.68\n",
      "Epoch#:38 | Error = 127.98\n",
      "Epoch#:39 | Error = 127.32\n",
      "Epoch#:40 | Error = 126.7\n",
      "Epoch#:41 | Error = 126.11\n",
      "Epoch#:42 | Error = 125.56\n",
      "Epoch#:43 | Error = 125.04\n",
      "Epoch#:44 | Error = 124.54\n",
      "Epoch#:45 | Error = 124.08\n",
      "Epoch#:46 | Error = 123.64\n",
      "Epoch#:47 | Error = 123.23\n",
      "Epoch#:48 | Error = 122.83\n",
      "Epoch#:49 | Error = 122.46\n",
      "Epoch#:50 | Error = 122.12\n",
      "Epoch#:51 | Error = 121.78\n",
      "Epoch#:52 | Error = 121.47\n",
      "Epoch#:53 | Error = 121.17\n",
      "Epoch#:54 | Error = 120.89\n",
      "Epoch#:55 | Error = 120.63\n",
      "Epoch#:56 | Error = 120.37\n",
      "Epoch#:57 | Error = 120.13\n",
      "Epoch#:58 | Error = 119.91\n",
      "Epoch#:59 | Error = 119.69\n",
      "Epoch#:60 | Error = 119.49\n",
      "Epoch#:61 | Error = 119.29\n",
      "Epoch#:62 | Error = 119.1\n",
      "Epoch#:63 | Error = 118.93\n",
      "Epoch#:64 | Error = 118.76\n",
      "Epoch#:65 | Error = 118.59\n",
      "Epoch#:66 | Error = 118.44\n",
      "Epoch#:67 | Error = 118.29\n",
      "Epoch#:68 | Error = 118.15\n",
      "Epoch#:69 | Error = 118.02\n",
      "Epoch#:70 | Error = 117.89\n",
      "Epoch#:71 | Error = 117.76\n",
      "Epoch#:72 | Error = 117.64\n",
      "Epoch#:73 | Error = 117.53\n",
      "Epoch#:74 | Error = 117.42\n",
      "Epoch#:75 | Error = 117.31\n",
      "Epoch#:76 | Error = 117.21\n",
      "Epoch#:77 | Error = 117.11\n",
      "Epoch#:78 | Error = 117.01\n",
      "Epoch#:79 | Error = 116.92\n",
      "Epoch#:80 | Error = 116.83\n",
      "Epoch#:81 | Error = 116.74\n",
      "Epoch#:82 | Error = 116.66\n",
      "Epoch#:83 | Error = 116.58\n",
      "Epoch#:84 | Error = 116.5\n",
      "Epoch#:85 | Error = 116.42\n",
      "Epoch#:86 | Error = 116.35\n",
      "Epoch#:87 | Error = 116.27\n",
      "Epoch#:88 | Error = 116.2\n",
      "Epoch#:89 | Error = 116.13\n",
      "Epoch#:90 | Error = 116.06\n",
      "Epoch#:91 | Error = 116.0\n",
      "Epoch#:92 | Error = 115.93\n",
      "Epoch#:93 | Error = 115.87\n",
      "Epoch#:94 | Error = 115.8\n",
      "Epoch#:95 | Error = 115.74\n",
      "Epoch#:96 | Error = 115.68\n",
      "Epoch#:97 | Error = 115.62\n",
      "Epoch#:98 | Error = 115.56\n",
      "Epoch#:99 | Error = 115.5\n"
     ]
    }
   ],
   "source": [
    "error = list()\n",
    "for epoch in range(epochs):\n",
    "    y_pred, total_error = forward_pass(w1, w2, b)\n",
    "    print(f\"Epoch#:{epoch} | Error = {round(total_error, 2)}\")\n",
    "    error.append(total_error)\n",
    "    w1, w2, b = weight_update(w1, w2, b, y_pred)"
   ]
  },
  {
   "cell_type": "code",
   "execution_count": 6,
   "id": "974a659f",
   "metadata": {},
   "outputs": [],
   "source": [
    "import matplotlib.pyplot as plt"
   ]
  },
  {
   "cell_type": "code",
   "execution_count": 7,
   "id": "2baddf74",
   "metadata": {},
   "outputs": [
    {
     "data": {
      "image/png": "[encoded data removed]",
      "text/plain": [
       "<Figure size 640x480 with 1 Axes>"
      ]
     },
     "metadata": {},
     "output_type": "display_data"
    }
   ],
   "source": [
    "plt.plot(error)\n",
    "plt.grid()\n",
    "plt.xlabel(\"Epoch\")\n",
    "plt.ylabel(\"Error\")\n",
    "plt.show()"
   ]
  },
  {
   "cell_type": "code",
   "execution_count": 8,
   "id": "12314f13",
   "metadata": {},
   "outputs": [
    {
     "data": {
      "text/plain": [
       "(3.169029378415006, -0.8035698490171095, -0.615239390939061)"
      ]
     },
     "execution_count": 8,
     "metadata": {},
     "output_type": "execute_result"
    }
   ],
   "source": [
    "w1, w2, b"
   ]
  },
  {
   "cell_type": "markdown",
   "id": "67b53975",
   "metadata": {},
   "source": [
    "Implementing using Numpy"
   ]
  },
  {
   "cell_type": "code",
   "execution_count": 9,
   "id": "7834d09a",
   "metadata": {},
   "outputs": [],
   "source": [
    "import numpy as np"
   ]
  },
  {
   "cell_type": "code",
   "execution_count": 10,
   "id": "97763796",
   "metadata": {},
   "outputs": [],
   "source": [
    "x1 = [10, 8, 15]# Ads\n",
    "x2 = [8, 20, 25]# Stores\n",
    "x  = np.array([x1, x2])\n",
    "x = x.T\n",
    "y = np.array([30, 15, 20])# Sales"
   ]
  },
  {
   "cell_type": "code",
   "execution_count": 12,
   "id": "1afcd0f9",
   "metadata": {},
   "outputs": [
    {
     "data": {
      "text/plain": [
       "array([[10,  8],\n",
       "       [ 8, 20],\n",
       "       [15, 25]])"
      ]
     },
     "execution_count": 12,
     "metadata": {},
     "output_type": "execute_result"
    }
   ],
   "source": [
    "x"
   ]
  },
  {
   "cell_type": "code",
   "execution_count": 13,
   "id": "cb211ccc",
   "metadata": {},
   "outputs": [
    {
     "data": {
      "text/plain": [
       "array([30, 15, 20])"
      ]
     },
     "execution_count": 13,
     "metadata": {},
     "output_type": "execute_result"
    }
   ],
   "source": [
    "y"
   ]
  },
  {
   "cell_type": "code",
   "execution_count": 14,
   "id": "9996c336",
   "metadata": {},
   "outputs": [],
   "source": [
    "random_init = np.random.randn(3)\n",
    "weights = random_init[:2].reshape(-1,1)\n",
    "bias = random_init[2]"
   ]
  },
  {
   "cell_type": "code",
   "execution_count": 15,
   "id": "4ce61adc",
   "metadata": {},
   "outputs": [
    {
     "data": {
      "text/plain": [
       "array([[-1.7585135 ],\n",
       "       [ 0.37914511]])"
      ]
     },
     "execution_count": 15,
     "metadata": {},
     "output_type": "execute_result"
    }
   ],
   "source": [
    "weights"
   ]
  },
  {
   "cell_type": "code",
   "execution_count": 16,
   "id": "060f7236",
   "metadata": {},
   "outputs": [
    {
     "data": {
      "text/plain": [
       "1.250203611249407"
      ]
     },
     "execution_count": 16,
     "metadata": {},
     "output_type": "execute_result"
    }
   ],
   "source": [
    "bias"
   ]
  },
  {
   "cell_type": "markdown",
   "id": "ead55f88",
   "metadata": {},
   "source": [
    "Forward Pass"
   ]
  },
  {
   "cell_type": "code",
   "execution_count": null,
   "id": "4d6fd690",
   "metadata": {},
   "outputs": [],
   "source": []
  },
  {
   "cell_type": "code",
   "execution_count": 18,
   "id": "68be25e6",
   "metadata": {},
   "outputs": [
    {
     "data": {
      "text/plain": [
       "10366.822299416097"
      ]
     },
     "execution_count": 18,
     "metadata": {},
     "output_type": "execute_result"
    }
   ],
   "source": [
    "((y_pred - y)**2).sum()"
   ]
  },
  {
   "cell_type": "code",
   "execution_count": null,
   "id": "e4d2b805",
   "metadata": {},
   "outputs": [],
   "source": []
  }
 ],
 "metadata": {
  "kernelspec": {
   "display_name": "Python 3 (ipykernel)",
   "language": "python",
   "name": "python3"
  },
  "language_info": {
   "codemirror_mode": {
    "name": "ipython",
    "version": 3
   },
   "file_extension": ".py",
   "mimetype": "text/x-python",
   "name": "python",
   "nbconvert_exporter": "python",
   "pygments_lexer": "ipython3",
   "version": "3.10.9"
  }
 },
 "nbformat": 4,
 "nbformat_minor": 5
}
