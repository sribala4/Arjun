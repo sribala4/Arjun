{
 "cells": [
  {
   "cell_type": "code",
   "execution_count": 3,
   "metadata": {},
   "outputs": [],
   "source": [
    "# Libraries\n",
    "\n",
    "import pandas as pd\n",
    "import numpy as np\n",
    "import matplotlib.pyplot as plt\n",
    "\n",
    "from statsmodels.stats.outliers_influence import variance_inflation_factor"
   ]
  },
  {
   "cell_type": "code",
   "execution_count": 4,
   "metadata": {},
   "outputs": [],
   "source": [
    "SourceTech_data = pd.read_excel(\"SourceTech Bills.xlsx\")\n",
    "Alltronix_data= pd.read_excel(\"AlltronixBills.xlsx\")"
   ]
  },
  {
   "cell_type": "code",
   "execution_count": 5,
   "metadata": {},
   "outputs": [
    {
     "data": {
      "text/html": [
       "<div>\n",
       "<style scoped>\n",
       "    .dataframe tbody tr th:only-of-type {\n",
       "        vertical-align: middle;\n",
       "    }\n",
       "\n",
       "    .dataframe tbody tr th {\n",
       "        vertical-align: top;\n",
       "    }\n",
       "\n",
       "    .dataframe thead th {\n",
       "        text-align: right;\n",
       "    }\n",
       "</style>\n",
       "<table border=\"1\" class=\"dataframe\">\n",
       "  <thead>\n",
       "    <tr style=\"text-align: right;\">\n",
       "      <th></th>\n",
       "      <th>Sl. No.</th>\n",
       "      <th>Number</th>\n",
       "      <th>Invoice</th>\n",
       "      <th>Name</th>\n",
       "      <th>Document Date</th>\n",
       "      <th>Packing slip</th>\n",
       "      <th>Batch number</th>\n",
       "      <th>Product Receipt Date</th>\n",
       "      <th>Item number</th>\n",
       "      <th>Unit</th>\n",
       "      <th>...</th>\n",
       "      <th>Physical date</th>\n",
       "      <th>Purchase Price</th>\n",
       "      <th>Currency</th>\n",
       "      <th>Line Amount</th>\n",
       "      <th>Item Description</th>\n",
       "      <th>Warehouse</th>\n",
       "      <th>Location</th>\n",
       "      <th>Quantity</th>\n",
       "      <th>Physical cost amount</th>\n",
       "      <th>Financial cost amount</th>\n",
       "    </tr>\n",
       "  </thead>\n",
       "  <tbody>\n",
       "    <tr>\n",
       "      <th>0</th>\n",
       "      <td>1.0</td>\n",
       "      <td>PO-00033227</td>\n",
       "      <td>P 12206</td>\n",
       "      <td>Source Technologi</td>\n",
       "      <td>2020-02-20</td>\n",
       "      <td>P 12206</td>\n",
       "      <td>200225-00033</td>\n",
       "      <td>2020-02-25</td>\n",
       "      <td>RER004248-03</td>\n",
       "      <td>Nos</td>\n",
       "      <td>...</td>\n",
       "      <td>2020-02-25</td>\n",
       "      <td>4500.0</td>\n",
       "      <td>INR</td>\n",
       "      <td>2250.0</td>\n",
       "      <td>Res SMT,2512 10R,±1%,1W,±70 C ,Thick Film</td>\n",
       "      <td>REC-WH</td>\n",
       "      <td>RX-EMS</td>\n",
       "      <td>500</td>\n",
       "      <td>2250.0</td>\n",
       "      <td>2350.00</td>\n",
       "    </tr>\n",
       "    <tr>\n",
       "      <th>1</th>\n",
       "      <td>2.0</td>\n",
       "      <td>PO-00027908</td>\n",
       "      <td>P 7897</td>\n",
       "      <td>Source Technologi</td>\n",
       "      <td>2019-10-26</td>\n",
       "      <td>P 7897</td>\n",
       "      <td>191031-00070</td>\n",
       "      <td>2019-10-31</td>\n",
       "      <td>REC013542-06</td>\n",
       "      <td>Nos</td>\n",
       "      <td>...</td>\n",
       "      <td>2019-10-31</td>\n",
       "      <td>2550.0</td>\n",
       "      <td>INR</td>\n",
       "      <td>21675.0</td>\n",
       "      <td>CAP SMT CER 1.5UF 50V X5R 0805</td>\n",
       "      <td>REC-WH</td>\n",
       "      <td>RX-EMS</td>\n",
       "      <td>8500</td>\n",
       "      <td>21675.0</td>\n",
       "      <td>21800.00</td>\n",
       "    </tr>\n",
       "    <tr>\n",
       "      <th>2</th>\n",
       "      <td>3.0</td>\n",
       "      <td>PO-00034412</td>\n",
       "      <td>Q 484</td>\n",
       "      <td>Source Technologi</td>\n",
       "      <td>2020-05-16</td>\n",
       "      <td>Q 484</td>\n",
       "      <td>200523-00043</td>\n",
       "      <td>2020-05-23</td>\n",
       "      <td>RBC001018-04</td>\n",
       "      <td>Nos</td>\n",
       "      <td>...</td>\n",
       "      <td>2020-05-23</td>\n",
       "      <td>1844.0</td>\n",
       "      <td>INR</td>\n",
       "      <td>212060.0</td>\n",
       "      <td>CAPACITOR TMEL 22µF ±10% 35V</td>\n",
       "      <td>REC-WH</td>\n",
       "      <td>RX-EMS</td>\n",
       "      <td>115</td>\n",
       "      <td>212060.0</td>\n",
       "      <td>212125.75</td>\n",
       "    </tr>\n",
       "    <tr>\n",
       "      <th>3</th>\n",
       "      <td>4.0</td>\n",
       "      <td>PO-00018918</td>\n",
       "      <td>O 9593</td>\n",
       "      <td>Source Technologi</td>\n",
       "      <td>2018-12-04</td>\n",
       "      <td>O 9593</td>\n",
       "      <td>181208-00014</td>\n",
       "      <td>2018-12-08</td>\n",
       "      <td>REC001044-27</td>\n",
       "      <td>Nos</td>\n",
       "      <td>...</td>\n",
       "      <td>2018-12-08</td>\n",
       "      <td>1500.0</td>\n",
       "      <td>INR</td>\n",
       "      <td>6000.0</td>\n",
       "      <td>CAP SMT 0.01µF,±10%,6.3V,-55°C to +125°C,0201X...</td>\n",
       "      <td>REC-WH</td>\n",
       "      <td>RX-EMS</td>\n",
       "      <td>4000</td>\n",
       "      <td>6000.0</td>\n",
       "      <td>6030.56</td>\n",
       "    </tr>\n",
       "    <tr>\n",
       "      <th>4</th>\n",
       "      <td>5.0</td>\n",
       "      <td>PO-00017155</td>\n",
       "      <td>O 7536</td>\n",
       "      <td>Source Technologi</td>\n",
       "      <td>2018-10-27</td>\n",
       "      <td>O 7536</td>\n",
       "      <td>181015-00036</td>\n",
       "      <td>2018-10-29</td>\n",
       "      <td>NPD02485</td>\n",
       "      <td>Nos</td>\n",
       "      <td>...</td>\n",
       "      <td>2018-10-15</td>\n",
       "      <td>1496.0</td>\n",
       "      <td>INR</td>\n",
       "      <td>10472.0</td>\n",
       "      <td>ADC Dual 12-Bit 10MSPS 3V</td>\n",
       "      <td>REC-WH</td>\n",
       "      <td>RX-EMS</td>\n",
       "      <td>7</td>\n",
       "      <td>10472.0</td>\n",
       "      <td>10549.91</td>\n",
       "    </tr>\n",
       "  </tbody>\n",
       "</table>\n",
       "<p>5 rows × 21 columns</p>\n",
       "</div>"
      ],
      "text/plain": [
       "   Sl. No.       Number  Invoice               Name Document Date  \\\n",
       "0      1.0  PO-00033227  P 12206  Source Technologi    2020-02-20   \n",
       "1      2.0  PO-00027908   P 7897  Source Technologi    2019-10-26   \n",
       "2      3.0  PO-00034412    Q 484  Source Technologi    2020-05-16   \n",
       "3      4.0  PO-00018918   O 9593  Source Technologi    2018-12-04   \n",
       "4      5.0  PO-00017155   O 7536  Source Technologi    2018-10-27   \n",
       "\n",
       "  Packing slip  Batch number Product Receipt Date   Item number Unit  ...  \\\n",
       "0      P 12206  200225-00033           2020-02-25  RER004248-03  Nos  ...   \n",
       "1       P 7897  191031-00070           2019-10-31  REC013542-06  Nos  ...   \n",
       "2        Q 484  200523-00043           2020-05-23  RBC001018-04  Nos  ...   \n",
       "3       O 9593  181208-00014           2018-12-08  REC001044-27  Nos  ...   \n",
       "4       O 7536  181015-00036           2018-10-29      NPD02485  Nos  ...   \n",
       "\n",
       "  Physical date Purchase Price  Currency Line Amount  \\\n",
       "0    2020-02-25         4500.0       INR      2250.0   \n",
       "1    2019-10-31         2550.0       INR     21675.0   \n",
       "2    2020-05-23         1844.0       INR    212060.0   \n",
       "3    2018-12-08         1500.0       INR      6000.0   \n",
       "4    2018-10-15         1496.0       INR     10472.0   \n",
       "\n",
       "                                    Item Description Warehouse Location  \\\n",
       "0          Res SMT,2512 10R,±1%,1W,±70 C ,Thick Film    REC-WH   RX-EMS   \n",
       "1                     CAP SMT CER 1.5UF 50V X5R 0805    REC-WH   RX-EMS   \n",
       "2                       CAPACITOR TMEL 22µF ±10% 35V    REC-WH   RX-EMS   \n",
       "3  CAP SMT 0.01µF,±10%,6.3V,-55°C to +125°C,0201X...    REC-WH   RX-EMS   \n",
       "4                          ADC Dual 12-Bit 10MSPS 3V    REC-WH   RX-EMS   \n",
       "\n",
       "  Quantity  Physical cost amount  Financial cost amount  \n",
       "0      500                2250.0                2350.00  \n",
       "1     8500               21675.0               21800.00  \n",
       "2      115              212060.0              212125.75  \n",
       "3     4000                6000.0                6030.56  \n",
       "4        7               10472.0               10549.91  \n",
       "\n",
       "[5 rows x 21 columns]"
      ]
     },
     "execution_count": 5,
     "metadata": {},
     "output_type": "execute_result"
    }
   ],
   "source": [
    "SourceTech_data.head()"
   ]
  },
  {
   "cell_type": "code",
   "execution_count": 6,
   "metadata": {},
   "outputs": [
    {
     "data": {
      "text/html": [
       "<div>\n",
       "<style scoped>\n",
       "    .dataframe tbody tr th:only-of-type {\n",
       "        vertical-align: middle;\n",
       "    }\n",
       "\n",
       "    .dataframe tbody tr th {\n",
       "        vertical-align: top;\n",
       "    }\n",
       "\n",
       "    .dataframe thead th {\n",
       "        text-align: right;\n",
       "    }\n",
       "</style>\n",
       "<table border=\"1\" class=\"dataframe\">\n",
       "  <thead>\n",
       "    <tr style=\"text-align: right;\">\n",
       "      <th></th>\n",
       "      <th>Sl. No.</th>\n",
       "      <th>Number</th>\n",
       "      <th>Invoice</th>\n",
       "      <th>Name</th>\n",
       "      <th>Document Date</th>\n",
       "      <th>Packing slip</th>\n",
       "      <th>Batch number</th>\n",
       "      <th>Product Receipt Date</th>\n",
       "      <th>Item number</th>\n",
       "      <th>Unit</th>\n",
       "      <th>...</th>\n",
       "      <th>Physical date</th>\n",
       "      <th>Purchase Price</th>\n",
       "      <th>Currency</th>\n",
       "      <th>Line Amount</th>\n",
       "      <th>Item Description</th>\n",
       "      <th>Warehouse</th>\n",
       "      <th>Location</th>\n",
       "      <th>Quantity</th>\n",
       "      <th>Physical cost amount</th>\n",
       "      <th>Financial cost amount</th>\n",
       "    </tr>\n",
       "  </thead>\n",
       "  <tbody>\n",
       "    <tr>\n",
       "      <th>0</th>\n",
       "      <td>1.0</td>\n",
       "      <td>PO-00022840</td>\n",
       "      <td>192002429.0</td>\n",
       "      <td>Alltronix</td>\n",
       "      <td>2019-06-18</td>\n",
       "      <td>192002429.0</td>\n",
       "      <td>190621-00093</td>\n",
       "      <td>2019-06-21</td>\n",
       "      <td>REH008037-34</td>\n",
       "      <td>Nos</td>\n",
       "      <td>...</td>\n",
       "      <td>2019-06-21</td>\n",
       "      <td>248.0</td>\n",
       "      <td>INR</td>\n",
       "      <td>19840.0</td>\n",
       "      <td>Conn DIN-SIGNAL 2C048MS-3 0C1-2-V2-CL</td>\n",
       "      <td>REC-WH</td>\n",
       "      <td>RX-EMS</td>\n",
       "      <td>80</td>\n",
       "      <td>19840</td>\n",
       "      <td>19840</td>\n",
       "    </tr>\n",
       "    <tr>\n",
       "      <th>1</th>\n",
       "      <td>2.0</td>\n",
       "      <td>PO-00008050</td>\n",
       "      <td>1709320.0</td>\n",
       "      <td>Alltronix</td>\n",
       "      <td>2017-12-15</td>\n",
       "      <td>1709320.0</td>\n",
       "      <td>171218-00024</td>\n",
       "      <td>2017-12-18</td>\n",
       "      <td>REH008037-34</td>\n",
       "      <td>Nos</td>\n",
       "      <td>...</td>\n",
       "      <td>2017-12-18</td>\n",
       "      <td>225.0</td>\n",
       "      <td>INR</td>\n",
       "      <td>225000.0</td>\n",
       "      <td>Conn DIN-SIGNAL 2C048MS-3 0C1-2-V2-CL</td>\n",
       "      <td>REC-WH</td>\n",
       "      <td>RX-EMS</td>\n",
       "      <td>1000</td>\n",
       "      <td>225000</td>\n",
       "      <td>225000</td>\n",
       "    </tr>\n",
       "    <tr>\n",
       "      <th>2</th>\n",
       "      <td>3.0</td>\n",
       "      <td>PO-00019338</td>\n",
       "      <td>181911852.0</td>\n",
       "      <td>Alltronix</td>\n",
       "      <td>2019-02-06</td>\n",
       "      <td>181911852.0</td>\n",
       "      <td>190212-00033</td>\n",
       "      <td>2019-02-12</td>\n",
       "      <td>REH008037-34</td>\n",
       "      <td>Nos</td>\n",
       "      <td>...</td>\n",
       "      <td>2019-02-12</td>\n",
       "      <td>225.0</td>\n",
       "      <td>INR</td>\n",
       "      <td>135000.0</td>\n",
       "      <td>Conn DIN-SIGNAL 2C048MS-3 0C1-2-V2-CL</td>\n",
       "      <td>REC-WH</td>\n",
       "      <td>RX-EMS</td>\n",
       "      <td>60</td>\n",
       "      <td>13500</td>\n",
       "      <td>13500</td>\n",
       "    </tr>\n",
       "    <tr>\n",
       "      <th>3</th>\n",
       "      <td>4.0</td>\n",
       "      <td>PO-00019338</td>\n",
       "      <td>181912498.0</td>\n",
       "      <td>Alltronix</td>\n",
       "      <td>2019-02-06</td>\n",
       "      <td>181912498.0</td>\n",
       "      <td>190225-00020</td>\n",
       "      <td>2019-02-12</td>\n",
       "      <td>REH008037-34</td>\n",
       "      <td>Nos</td>\n",
       "      <td>...</td>\n",
       "      <td>2019-02-25</td>\n",
       "      <td>225.0</td>\n",
       "      <td>INR</td>\n",
       "      <td>135000.0</td>\n",
       "      <td>Conn DIN-SIGNAL 2C048MS-3 0C1-2-V2-CL</td>\n",
       "      <td>REC-WH</td>\n",
       "      <td>RX-EMS</td>\n",
       "      <td>540</td>\n",
       "      <td>121500</td>\n",
       "      <td>121500</td>\n",
       "    </tr>\n",
       "    <tr>\n",
       "      <th>4</th>\n",
       "      <td>5.0</td>\n",
       "      <td>PO-00032201</td>\n",
       "      <td>192010876.0</td>\n",
       "      <td>Alltronix</td>\n",
       "      <td>2020-06-27</td>\n",
       "      <td>192010876.0</td>\n",
       "      <td>200717-00001</td>\n",
       "      <td>2020-07-17</td>\n",
       "      <td>REH008037-34</td>\n",
       "      <td>Nos</td>\n",
       "      <td>...</td>\n",
       "      <td>2020-07-17</td>\n",
       "      <td>225.0</td>\n",
       "      <td>INR</td>\n",
       "      <td>57825.0</td>\n",
       "      <td>Conn DIN-SIGNAL 2C048MS-3 0C1-2-V2-CL</td>\n",
       "      <td>REC-WH</td>\n",
       "      <td>RX-EMS</td>\n",
       "      <td>257</td>\n",
       "      <td>57825</td>\n",
       "      <td>57825</td>\n",
       "    </tr>\n",
       "  </tbody>\n",
       "</table>\n",
       "<p>5 rows × 21 columns</p>\n",
       "</div>"
      ],
      "text/plain": [
       "   Sl. No.       Number      Invoice       Name Document Date  Packing slip  \\\n",
       "0      1.0  PO-00022840  192002429.0  Alltronix    2019-06-18   192002429.0   \n",
       "1      2.0  PO-00008050    1709320.0  Alltronix    2017-12-15     1709320.0   \n",
       "2      3.0  PO-00019338  181911852.0  Alltronix    2019-02-06   181911852.0   \n",
       "3      4.0  PO-00019338  181912498.0  Alltronix    2019-02-06   181912498.0   \n",
       "4      5.0  PO-00032201  192010876.0  Alltronix    2020-06-27   192010876.0   \n",
       "\n",
       "   Batch number Product Receipt Date   Item number Unit  ... Physical date  \\\n",
       "0  190621-00093           2019-06-21  REH008037-34  Nos  ...    2019-06-21   \n",
       "1  171218-00024           2017-12-18  REH008037-34  Nos  ...    2017-12-18   \n",
       "2  190212-00033           2019-02-12  REH008037-34  Nos  ...    2019-02-12   \n",
       "3  190225-00020           2019-02-12  REH008037-34  Nos  ...    2019-02-25   \n",
       "4  200717-00001           2020-07-17  REH008037-34  Nos  ...    2020-07-17   \n",
       "\n",
       "  Purchase Price  Currency Line Amount                       Item Description  \\\n",
       "0          248.0       INR     19840.0  Conn DIN-SIGNAL 2C048MS-3 0C1-2-V2-CL   \n",
       "1          225.0       INR    225000.0  Conn DIN-SIGNAL 2C048MS-3 0C1-2-V2-CL   \n",
       "2          225.0       INR    135000.0  Conn DIN-SIGNAL 2C048MS-3 0C1-2-V2-CL   \n",
       "3          225.0       INR    135000.0  Conn DIN-SIGNAL 2C048MS-3 0C1-2-V2-CL   \n",
       "4          225.0       INR     57825.0  Conn DIN-SIGNAL 2C048MS-3 0C1-2-V2-CL   \n",
       "\n",
       "  Warehouse Location Quantity  Physical cost amount  Financial cost amount  \n",
       "0    REC-WH   RX-EMS       80                 19840                  19840  \n",
       "1    REC-WH   RX-EMS     1000                225000                 225000  \n",
       "2    REC-WH   RX-EMS       60                 13500                  13500  \n",
       "3    REC-WH   RX-EMS      540                121500                 121500  \n",
       "4    REC-WH   RX-EMS      257                 57825                  57825  \n",
       "\n",
       "[5 rows x 21 columns]"
      ]
     },
     "execution_count": 6,
     "metadata": {},
     "output_type": "execute_result"
    }
   ],
   "source": [
    "Alltronix_data.head()"
   ]
  },
  {
   "cell_type": "code",
   "execution_count": 7,
   "metadata": {},
   "outputs": [
    {
     "data": {
      "text/plain": [
       "Index([], dtype='object')"
      ]
     },
     "execution_count": 7,
     "metadata": {},
     "output_type": "execute_result"
    }
   ],
   "source": [
    "SourceTech_data.columns.difference(Alltronix_data.columns)"
   ]
  },
  {
   "cell_type": "code",
   "execution_count": 8,
   "metadata": {},
   "outputs": [
    {
     "data": {
      "text/plain": [
       "(1608, 21)"
      ]
     },
     "execution_count": 8,
     "metadata": {},
     "output_type": "execute_result"
    }
   ],
   "source": [
    "SourceTech_data.shape"
   ]
  },
  {
   "cell_type": "code",
   "execution_count": 9,
   "metadata": {},
   "outputs": [],
   "source": [
    "SourceTech = SourceTech_data \n",
    "Alltronix = Alltronix_data"
   ]
  },
  {
   "cell_type": "code",
   "execution_count": 10,
   "metadata": {},
   "outputs": [
    {
     "name": "stdout",
     "output_type": "stream",
     "text": [
      "<class 'pandas.core.frame.DataFrame'>\n",
      "RangeIndex: 1608 entries, 0 to 1607\n",
      "Data columns (total 21 columns):\n",
      " #   Column                 Non-Null Count  Dtype         \n",
      "---  ------                 --------------  -----         \n",
      " 0   Sl. No.                1607 non-null   float64       \n",
      " 1   Number                 1607 non-null   object        \n",
      " 2   Invoice                1547 non-null   object        \n",
      " 3   Name                   1607 non-null   object        \n",
      " 4   Document Date          1596 non-null   datetime64[ns]\n",
      " 5   Packing slip           1607 non-null   object        \n",
      " 6   Batch number           1607 non-null   object        \n",
      " 7   Product Receipt Date   1606 non-null   datetime64[ns]\n",
      " 8   Item number            1607 non-null   object        \n",
      " 9   Unit                   1605 non-null   object        \n",
      " 10  Financial date         1607 non-null   datetime64[ns]\n",
      " 11  Physical date          1607 non-null   datetime64[ns]\n",
      " 12  Purchase Price         1607 non-null   float64       \n",
      " 13  Currency               1607 non-null   object        \n",
      " 14  Line Amount            1607 non-null   float64       \n",
      " 15  Item Description       1607 non-null   object        \n",
      " 16  Warehouse              1607 non-null   object        \n",
      " 17  Location               1607 non-null   object        \n",
      " 18  Quantity               1608 non-null   int64         \n",
      " 19  Physical cost amount   1608 non-null   float64       \n",
      " 20  Financial cost amount  1548 non-null   float64       \n",
      "dtypes: datetime64[ns](4), float64(5), int64(1), object(11)\n",
      "memory usage: 263.9+ KB\n"
     ]
    }
   ],
   "source": [
    "SourceTech.info()"
   ]
  },
  {
   "cell_type": "code",
   "execution_count": 11,
   "metadata": {},
   "outputs": [
    {
     "data": {
      "text/html": [
       "<div>\n",
       "<style scoped>\n",
       "    .dataframe tbody tr th:only-of-type {\n",
       "        vertical-align: middle;\n",
       "    }\n",
       "\n",
       "    .dataframe tbody tr th {\n",
       "        vertical-align: top;\n",
       "    }\n",
       "\n",
       "    .dataframe thead th {\n",
       "        text-align: right;\n",
       "    }\n",
       "</style>\n",
       "<table border=\"1\" class=\"dataframe\">\n",
       "  <thead>\n",
       "    <tr style=\"text-align: right;\">\n",
       "      <th></th>\n",
       "      <th>Sl. No.</th>\n",
       "      <th>Purchase Price</th>\n",
       "      <th>Line Amount</th>\n",
       "      <th>Quantity</th>\n",
       "      <th>Physical cost amount</th>\n",
       "      <th>Financial cost amount</th>\n",
       "    </tr>\n",
       "  </thead>\n",
       "  <tbody>\n",
       "    <tr>\n",
       "      <th>count</th>\n",
       "      <td>1607.000000</td>\n",
       "      <td>1607.000000</td>\n",
       "      <td>1607.000000</td>\n",
       "      <td>1.608000e+03</td>\n",
       "      <td>1.608000e+03</td>\n",
       "      <td>1.548000e+03</td>\n",
       "    </tr>\n",
       "    <tr>\n",
       "      <th>mean</th>\n",
       "      <td>804.000000</td>\n",
       "      <td>37.589035</td>\n",
       "      <td>10214.985706</td>\n",
       "      <td>9.327239e+03</td>\n",
       "      <td>1.582769e+04</td>\n",
       "      <td>1.654546e+04</td>\n",
       "    </tr>\n",
       "    <tr>\n",
       "      <th>std</th>\n",
       "      <td>464.045256</td>\n",
       "      <td>196.150259</td>\n",
       "      <td>30924.589382</td>\n",
       "      <td>1.874748e+05</td>\n",
       "      <td>3.182352e+05</td>\n",
       "      <td>3.263632e+05</td>\n",
       "    </tr>\n",
       "    <tr>\n",
       "      <th>min</th>\n",
       "      <td>1.000000</td>\n",
       "      <td>0.000000</td>\n",
       "      <td>-31500.000000</td>\n",
       "      <td>-3.500000e+04</td>\n",
       "      <td>-5.250000e+04</td>\n",
       "      <td>-3.456750e+04</td>\n",
       "    </tr>\n",
       "    <tr>\n",
       "      <th>25%</th>\n",
       "      <td>402.500000</td>\n",
       "      <td>0.120000</td>\n",
       "      <td>400.000000</td>\n",
       "      <td>5.000000e+02</td>\n",
       "      <td>4.000000e+02</td>\n",
       "      <td>4.500000e+02</td>\n",
       "    </tr>\n",
       "    <tr>\n",
       "      <th>50%</th>\n",
       "      <td>804.000000</td>\n",
       "      <td>0.600000</td>\n",
       "      <td>1500.000000</td>\n",
       "      <td>2.000000e+03</td>\n",
       "      <td>1.400000e+03</td>\n",
       "      <td>1.452875e+03</td>\n",
       "    </tr>\n",
       "    <tr>\n",
       "      <th>75%</th>\n",
       "      <td>1205.500000</td>\n",
       "      <td>3.670000</td>\n",
       "      <td>6600.000000</td>\n",
       "      <td>5.000000e+03</td>\n",
       "      <td>5.528750e+03</td>\n",
       "      <td>5.698807e+03</td>\n",
       "    </tr>\n",
       "    <tr>\n",
       "      <th>max</th>\n",
       "      <td>1607.000000</td>\n",
       "      <td>4500.000000</td>\n",
       "      <td>378000.000000</td>\n",
       "      <td>7.499100e+06</td>\n",
       "      <td>1.272546e+07</td>\n",
       "      <td>1.280618e+07</td>\n",
       "    </tr>\n",
       "  </tbody>\n",
       "</table>\n",
       "</div>"
      ],
      "text/plain": [
       "           Sl. No.  Purchase Price    Line Amount      Quantity  \\\n",
       "count  1607.000000     1607.000000    1607.000000  1.608000e+03   \n",
       "mean    804.000000       37.589035   10214.985706  9.327239e+03   \n",
       "std     464.045256      196.150259   30924.589382  1.874748e+05   \n",
       "min       1.000000        0.000000  -31500.000000 -3.500000e+04   \n",
       "25%     402.500000        0.120000     400.000000  5.000000e+02   \n",
       "50%     804.000000        0.600000    1500.000000  2.000000e+03   \n",
       "75%    1205.500000        3.670000    6600.000000  5.000000e+03   \n",
       "max    1607.000000     4500.000000  378000.000000  7.499100e+06   \n",
       "\n",
       "       Physical cost amount  Financial cost amount  \n",
       "count          1.608000e+03           1.548000e+03  \n",
       "mean           1.582769e+04           1.654546e+04  \n",
       "std            3.182352e+05           3.263632e+05  \n",
       "min           -5.250000e+04          -3.456750e+04  \n",
       "25%            4.000000e+02           4.500000e+02  \n",
       "50%            1.400000e+03           1.452875e+03  \n",
       "75%            5.528750e+03           5.698807e+03  \n",
       "max            1.272546e+07           1.280618e+07  "
      ]
     },
     "execution_count": 11,
     "metadata": {},
     "output_type": "execute_result"
    }
   ],
   "source": [
    "SourceTech.describe()"
   ]
  },
  {
   "cell_type": "code",
   "execution_count": 12,
   "metadata": {},
   "outputs": [
    {
     "data": {
      "text/plain": [
       "Sl. No.                   1\n",
       "Number                    1\n",
       "Invoice                  61\n",
       "Name                      1\n",
       "Document Date            12\n",
       "Packing slip              1\n",
       "Batch number              1\n",
       "Product Receipt Date      2\n",
       "Item number               1\n",
       "Unit                      3\n",
       "Financial date            1\n",
       "Physical date             1\n",
       "Purchase Price            1\n",
       "Currency                  1\n",
       "Line Amount               1\n",
       "Item Description          1\n",
       "Warehouse                 1\n",
       "Location                  1\n",
       "Quantity                  0\n",
       "Physical cost amount      0\n",
       "Financial cost amount    60\n",
       "dtype: int64"
      ]
     },
     "execution_count": 12,
     "metadata": {},
     "output_type": "execute_result"
    }
   ],
   "source": [
    "SourceTech.isna().sum()"
   ]
  },
  {
   "cell_type": "code",
   "execution_count": 13,
   "metadata": {},
   "outputs": [
    {
     "data": {
      "text/plain": [
       "Sl. No.                  1\n",
       "Number                   1\n",
       "Invoice                  1\n",
       "Name                     1\n",
       "Document Date            1\n",
       "Packing slip             1\n",
       "Batch number             1\n",
       "Product Receipt Date     1\n",
       "Item number              1\n",
       "Unit                     1\n",
       "Financial date           1\n",
       "Physical date            1\n",
       "Purchase Price           1\n",
       "Currency                 1\n",
       "Line Amount              1\n",
       "Item Description         1\n",
       "Warehouse                1\n",
       "Location                 1\n",
       "Quantity                 0\n",
       "Physical cost amount     0\n",
       "Financial cost amount    0\n",
       "dtype: int64"
      ]
     },
     "execution_count": 13,
     "metadata": {},
     "output_type": "execute_result"
    }
   ],
   "source": [
    "Alltronix.isna().sum()"
   ]
  },
  {
   "cell_type": "code",
   "execution_count": 14,
   "metadata": {},
   "outputs": [
    {
     "data": {
      "text/plain": [
       "0       PO-00033227\n",
       "1       PO-00027908\n",
       "2       PO-00034412\n",
       "3       PO-00018918\n",
       "4       PO-00017155\n",
       "           ...     \n",
       "1603    PO-00034353\n",
       "1604    PO-00034353\n",
       "1605    PO-00034353\n",
       "1606    PO-00035375\n",
       "1607            NaN\n",
       "Name: Number, Length: 1608, dtype: object"
      ]
     },
     "execution_count": 14,
     "metadata": {},
     "output_type": "execute_result"
    }
   ],
   "source": [
    "SourceTech.Number"
   ]
  },
  {
   "cell_type": "code",
   "execution_count": 15,
   "metadata": {},
   "outputs": [],
   "source": [
    "SourceTech[\"source\"] = \"SourceTech\"\n",
    "Alltronix[\"source\"] = \"Alltronix\""
   ]
  },
  {
   "cell_type": "code",
   "execution_count": 16,
   "metadata": {},
   "outputs": [
    {
     "data": {
      "text/html": [
       "<div>\n",
       "<style scoped>\n",
       "    .dataframe tbody tr th:only-of-type {\n",
       "        vertical-align: middle;\n",
       "    }\n",
       "\n",
       "    .dataframe tbody tr th {\n",
       "        vertical-align: top;\n",
       "    }\n",
       "\n",
       "    .dataframe thead th {\n",
       "        text-align: right;\n",
       "    }\n",
       "</style>\n",
       "<table border=\"1\" class=\"dataframe\">\n",
       "  <thead>\n",
       "    <tr style=\"text-align: right;\">\n",
       "      <th></th>\n",
       "      <th>Sl. No.</th>\n",
       "      <th>Number</th>\n",
       "      <th>Invoice</th>\n",
       "      <th>Name</th>\n",
       "      <th>Document Date</th>\n",
       "      <th>Packing slip</th>\n",
       "      <th>Batch number</th>\n",
       "      <th>Product Receipt Date</th>\n",
       "      <th>Item number</th>\n",
       "      <th>Unit</th>\n",
       "      <th>...</th>\n",
       "      <th>Purchase Price</th>\n",
       "      <th>Currency</th>\n",
       "      <th>Line Amount</th>\n",
       "      <th>Item Description</th>\n",
       "      <th>Warehouse</th>\n",
       "      <th>Location</th>\n",
       "      <th>Quantity</th>\n",
       "      <th>Physical cost amount</th>\n",
       "      <th>Financial cost amount</th>\n",
       "      <th>source</th>\n",
       "    </tr>\n",
       "  </thead>\n",
       "  <tbody>\n",
       "    <tr>\n",
       "      <th>0</th>\n",
       "      <td>1.0</td>\n",
       "      <td>PO-00022840</td>\n",
       "      <td>192002429.0</td>\n",
       "      <td>Alltronix</td>\n",
       "      <td>2019-06-18</td>\n",
       "      <td>192002429.0</td>\n",
       "      <td>190621-00093</td>\n",
       "      <td>2019-06-21</td>\n",
       "      <td>REH008037-34</td>\n",
       "      <td>Nos</td>\n",
       "      <td>...</td>\n",
       "      <td>248.0</td>\n",
       "      <td>INR</td>\n",
       "      <td>19840.0</td>\n",
       "      <td>Conn DIN-SIGNAL 2C048MS-3 0C1-2-V2-CL</td>\n",
       "      <td>REC-WH</td>\n",
       "      <td>RX-EMS</td>\n",
       "      <td>80</td>\n",
       "      <td>19840</td>\n",
       "      <td>19840</td>\n",
       "      <td>Alltronix</td>\n",
       "    </tr>\n",
       "    <tr>\n",
       "      <th>1</th>\n",
       "      <td>2.0</td>\n",
       "      <td>PO-00008050</td>\n",
       "      <td>1709320.0</td>\n",
       "      <td>Alltronix</td>\n",
       "      <td>2017-12-15</td>\n",
       "      <td>1709320.0</td>\n",
       "      <td>171218-00024</td>\n",
       "      <td>2017-12-18</td>\n",
       "      <td>REH008037-34</td>\n",
       "      <td>Nos</td>\n",
       "      <td>...</td>\n",
       "      <td>225.0</td>\n",
       "      <td>INR</td>\n",
       "      <td>225000.0</td>\n",
       "      <td>Conn DIN-SIGNAL 2C048MS-3 0C1-2-V2-CL</td>\n",
       "      <td>REC-WH</td>\n",
       "      <td>RX-EMS</td>\n",
       "      <td>1000</td>\n",
       "      <td>225000</td>\n",
       "      <td>225000</td>\n",
       "      <td>Alltronix</td>\n",
       "    </tr>\n",
       "    <tr>\n",
       "      <th>2</th>\n",
       "      <td>3.0</td>\n",
       "      <td>PO-00019338</td>\n",
       "      <td>181911852.0</td>\n",
       "      <td>Alltronix</td>\n",
       "      <td>2019-02-06</td>\n",
       "      <td>181911852.0</td>\n",
       "      <td>190212-00033</td>\n",
       "      <td>2019-02-12</td>\n",
       "      <td>REH008037-34</td>\n",
       "      <td>Nos</td>\n",
       "      <td>...</td>\n",
       "      <td>225.0</td>\n",
       "      <td>INR</td>\n",
       "      <td>135000.0</td>\n",
       "      <td>Conn DIN-SIGNAL 2C048MS-3 0C1-2-V2-CL</td>\n",
       "      <td>REC-WH</td>\n",
       "      <td>RX-EMS</td>\n",
       "      <td>60</td>\n",
       "      <td>13500</td>\n",
       "      <td>13500</td>\n",
       "      <td>Alltronix</td>\n",
       "    </tr>\n",
       "    <tr>\n",
       "      <th>3</th>\n",
       "      <td>4.0</td>\n",
       "      <td>PO-00019338</td>\n",
       "      <td>181912498.0</td>\n",
       "      <td>Alltronix</td>\n",
       "      <td>2019-02-06</td>\n",
       "      <td>181912498.0</td>\n",
       "      <td>190225-00020</td>\n",
       "      <td>2019-02-12</td>\n",
       "      <td>REH008037-34</td>\n",
       "      <td>Nos</td>\n",
       "      <td>...</td>\n",
       "      <td>225.0</td>\n",
       "      <td>INR</td>\n",
       "      <td>135000.0</td>\n",
       "      <td>Conn DIN-SIGNAL 2C048MS-3 0C1-2-V2-CL</td>\n",
       "      <td>REC-WH</td>\n",
       "      <td>RX-EMS</td>\n",
       "      <td>540</td>\n",
       "      <td>121500</td>\n",
       "      <td>121500</td>\n",
       "      <td>Alltronix</td>\n",
       "    </tr>\n",
       "    <tr>\n",
       "      <th>4</th>\n",
       "      <td>5.0</td>\n",
       "      <td>PO-00032201</td>\n",
       "      <td>192010876.0</td>\n",
       "      <td>Alltronix</td>\n",
       "      <td>2020-06-27</td>\n",
       "      <td>192010876.0</td>\n",
       "      <td>200717-00001</td>\n",
       "      <td>2020-07-17</td>\n",
       "      <td>REH008037-34</td>\n",
       "      <td>Nos</td>\n",
       "      <td>...</td>\n",
       "      <td>225.0</td>\n",
       "      <td>INR</td>\n",
       "      <td>57825.0</td>\n",
       "      <td>Conn DIN-SIGNAL 2C048MS-3 0C1-2-V2-CL</td>\n",
       "      <td>REC-WH</td>\n",
       "      <td>RX-EMS</td>\n",
       "      <td>257</td>\n",
       "      <td>57825</td>\n",
       "      <td>57825</td>\n",
       "      <td>Alltronix</td>\n",
       "    </tr>\n",
       "    <tr>\n",
       "      <th>5</th>\n",
       "      <td>NaN</td>\n",
       "      <td>NaN</td>\n",
       "      <td>NaN</td>\n",
       "      <td>NaN</td>\n",
       "      <td>NaT</td>\n",
       "      <td>NaN</td>\n",
       "      <td>NaN</td>\n",
       "      <td>NaT</td>\n",
       "      <td>NaN</td>\n",
       "      <td>NaN</td>\n",
       "      <td>...</td>\n",
       "      <td>NaN</td>\n",
       "      <td>NaN</td>\n",
       "      <td>NaN</td>\n",
       "      <td>NaN</td>\n",
       "      <td>NaN</td>\n",
       "      <td>NaN</td>\n",
       "      <td>1937</td>\n",
       "      <td>437665</td>\n",
       "      <td>437665</td>\n",
       "      <td>Alltronix</td>\n",
       "    </tr>\n",
       "  </tbody>\n",
       "</table>\n",
       "<p>6 rows × 22 columns</p>\n",
       "</div>"
      ],
      "text/plain": [
       "   Sl. No.       Number      Invoice       Name Document Date  Packing slip  \\\n",
       "0      1.0  PO-00022840  192002429.0  Alltronix    2019-06-18   192002429.0   \n",
       "1      2.0  PO-00008050    1709320.0  Alltronix    2017-12-15     1709320.0   \n",
       "2      3.0  PO-00019338  181911852.0  Alltronix    2019-02-06   181911852.0   \n",
       "3      4.0  PO-00019338  181912498.0  Alltronix    2019-02-06   181912498.0   \n",
       "4      5.0  PO-00032201  192010876.0  Alltronix    2020-06-27   192010876.0   \n",
       "5      NaN          NaN          NaN        NaN           NaT           NaN   \n",
       "\n",
       "   Batch number Product Receipt Date   Item number Unit  ... Purchase Price  \\\n",
       "0  190621-00093           2019-06-21  REH008037-34  Nos  ...          248.0   \n",
       "1  171218-00024           2017-12-18  REH008037-34  Nos  ...          225.0   \n",
       "2  190212-00033           2019-02-12  REH008037-34  Nos  ...          225.0   \n",
       "3  190225-00020           2019-02-12  REH008037-34  Nos  ...          225.0   \n",
       "4  200717-00001           2020-07-17  REH008037-34  Nos  ...          225.0   \n",
       "5           NaN                  NaT           NaN  NaN  ...            NaN   \n",
       "\n",
       "  Currency  Line Amount                       Item Description  Warehouse  \\\n",
       "0      INR      19840.0  Conn DIN-SIGNAL 2C048MS-3 0C1-2-V2-CL     REC-WH   \n",
       "1      INR     225000.0  Conn DIN-SIGNAL 2C048MS-3 0C1-2-V2-CL     REC-WH   \n",
       "2      INR     135000.0  Conn DIN-SIGNAL 2C048MS-3 0C1-2-V2-CL     REC-WH   \n",
       "3      INR     135000.0  Conn DIN-SIGNAL 2C048MS-3 0C1-2-V2-CL     REC-WH   \n",
       "4      INR      57825.0  Conn DIN-SIGNAL 2C048MS-3 0C1-2-V2-CL     REC-WH   \n",
       "5      NaN          NaN                                    NaN        NaN   \n",
       "\n",
       "  Location Quantity Physical cost amount  Financial cost amount     source  \n",
       "0   RX-EMS       80                19840                  19840  Alltronix  \n",
       "1   RX-EMS     1000               225000                 225000  Alltronix  \n",
       "2   RX-EMS       60                13500                  13500  Alltronix  \n",
       "3   RX-EMS      540               121500                 121500  Alltronix  \n",
       "4   RX-EMS      257                57825                  57825  Alltronix  \n",
       "5      NaN     1937               437665                 437665  Alltronix  \n",
       "\n",
       "[6 rows x 22 columns]"
      ]
     },
     "execution_count": 16,
     "metadata": {},
     "output_type": "execute_result"
    }
   ],
   "source": [
    "Alltronix"
   ]
  },
  {
   "cell_type": "code",
   "execution_count": 17,
   "metadata": {},
   "outputs": [],
   "source": [
    "df = pd.concat([SourceTech ,Alltronix])"
   ]
  },
  {
   "cell_type": "code",
   "execution_count": 18,
   "metadata": {},
   "outputs": [
    {
     "data": {
      "text/plain": [
       "Sl. No.                   2\n",
       "Number                    2\n",
       "Invoice                  62\n",
       "Name                      2\n",
       "Document Date            13\n",
       "Packing slip              2\n",
       "Batch number              2\n",
       "Product Receipt Date      3\n",
       "Item number               2\n",
       "Unit                      4\n",
       "Financial date            2\n",
       "Physical date             2\n",
       "Purchase Price            2\n",
       "Currency                  2\n",
       "Line Amount               2\n",
       "Item Description          2\n",
       "Warehouse                 2\n",
       "Location                  2\n",
       "Quantity                  0\n",
       "Physical cost amount      0\n",
       "Financial cost amount    60\n",
       "source                    0\n",
       "dtype: int64"
      ]
     },
     "execution_count": 18,
     "metadata": {},
     "output_type": "execute_result"
    }
   ],
   "source": [
    "df.isna().sum()"
   ]
  },
  {
   "cell_type": "code",
   "execution_count": 19,
   "metadata": {},
   "outputs": [
    {
     "data": {
      "text/plain": [
       "(1614, 22)"
      ]
     },
     "execution_count": 19,
     "metadata": {},
     "output_type": "execute_result"
    }
   ],
   "source": [
    "df.shape"
   ]
  },
  {
   "cell_type": "code",
   "execution_count": 20,
   "metadata": {},
   "outputs": [
    {
     "data": {
      "text/plain": [
       "658"
      ]
     },
     "execution_count": 20,
     "metadata": {},
     "output_type": "execute_result"
    }
   ],
   "source": [
    "df[\"Number\"].nunique()"
   ]
  },
  {
   "cell_type": "code",
   "execution_count": 21,
   "metadata": {},
   "outputs": [
    {
     "data": {
      "text/plain": [
       "PO-00014703    23\n",
       "PO-00016712    23\n",
       "PO-00014304    22\n",
       "PO-00005130    22\n",
       "PO-00004985    20\n",
       "               ..\n",
       "PO-00024731     1\n",
       "PO-00016420     1\n",
       "PO-00014595     1\n",
       "PO-00016538     1\n",
       "PO-00032677     1\n",
       "Name: Number, Length: 658, dtype: int64"
      ]
     },
     "execution_count": 21,
     "metadata": {},
     "output_type": "execute_result"
    }
   ],
   "source": [
    "df[\"Number\"].value_counts()"
   ]
  },
  {
   "cell_type": "code",
   "execution_count": 22,
   "metadata": {},
   "outputs": [
    {
     "data": {
      "text/plain": [
       "62"
      ]
     },
     "execution_count": 22,
     "metadata": {},
     "output_type": "execute_result"
    }
   ],
   "source": [
    "df[\"Invoice\"].isna().sum()"
   ]
  },
  {
   "cell_type": "code",
   "execution_count": 23,
   "metadata": {},
   "outputs": [
    {
     "data": {
      "text/plain": [
       "0     PO-00033227\n",
       "1     PO-00027908\n",
       "2     PO-00034412\n",
       "3     PO-00018918\n",
       "4     PO-00017155\n",
       "         ...     \n",
       "95    PO-00034411\n",
       "96    PO-00016712\n",
       "97    PO-00034794\n",
       "98    PO-00016712\n",
       "99    PO-00016954\n",
       "Name: Number, Length: 100, dtype: object"
      ]
     },
     "execution_count": 23,
     "metadata": {},
     "output_type": "execute_result"
    }
   ],
   "source": [
    "df.iloc[0:100,1]"
   ]
  },
  {
   "cell_type": "code",
   "execution_count": 24,
   "metadata": {},
   "outputs": [
    {
     "data": {
      "text/plain": [
       "201"
      ]
     },
     "execution_count": 24,
     "metadata": {},
     "output_type": "execute_result"
    }
   ],
   "source": [
    "df[\"Quantity\"].nunique()"
   ]
  },
  {
   "cell_type": "code",
   "execution_count": 25,
   "metadata": {},
   "outputs": [
    {
     "data": {
      "text/plain": [
       "array([    500,    8500,     115,    4000,       7,    6000,    5000,\n",
       "          3000,      33,     135,   15000,   35000,    8000,    1000,\n",
       "         25000,       2,      59,      88,    2000,      12,    1500,\n",
       "          2500,    4500,   10000,       6,       3,      10,      18,\n",
       "           490,    4510,     231,     200,      21,     205,     971,\n",
       "            34,      25,      40,    4800,      14,      44,      23,\n",
       "           300,      27,      22,      84,      67,     100,    1200,\n",
       "           150,      13,      15,       4,   20000,     890,    1010,\n",
       "          1485,     240,    1425,     224,    1974,    1026,     400,\n",
       "            32,     750,     285,     130,     600,    2195,    7805,\n",
       "         14850,    2100,      30,   -2500,     380,      35,      50,\n",
       "            20,   24000,  120000,   30000,   45000,     250,    3500,\n",
       "          9855,  105145,     575,   -2000,     260,     550,    1100,\n",
       "           332,     268,    9400,   16000,     700,      70,     -70,\n",
       "           110,    7000,   12530,    9000,     950,    1250,     800,\n",
       "          -500,   -5000,    1575,     120,    -120,     900,    5100,\n",
       "         12000,   14000,   -3000,    1600,    1750,    7500,      80,\n",
       "         11000,    1650,    2200,     650,     350,   12840,    2160,\n",
       "          4200,   80000,    2350,   50000,    3700,  200000,   10500,\n",
       "          2700,  -30000,     357,    4643,     225,    2300,    1300,\n",
       "        100000,    1800,   32000,    2400,    5650,   18000,  410000,\n",
       "          3300,    1400,    1700,   31000,    5500,    6500,     270,\n",
       "          -150,   55000,   22000,     140,    3400,    1150,   -8000,\n",
       "          3200,   19200,   17000,  150000,   60000,   46000,  -35000,\n",
       "         34000,   -1100,   90000,    -800,   13000,   -1000,   -4000,\n",
       "        -25000,    2250,   -3500,   -6000,    1900,     975,     125,\n",
       "            75,   36000,   41500,   23000,   40000,    1120,    2880,\n",
       "          4900,   12500,     760,    1240,     520,       8,    5992,\n",
       "       7499100,      60,     540,     257,    1937], dtype=int64)"
      ]
     },
     "execution_count": 25,
     "metadata": {},
     "output_type": "execute_result"
    }
   ],
   "source": [
    "df[\"Quantity\"].unique()"
   ]
  },
  {
   "cell_type": "code",
   "execution_count": 26,
   "metadata": {},
   "outputs": [
    {
     "data": {
      "text/plain": [
       "1000     205\n",
       "5000     151\n",
       "2000     145\n",
       "500      127\n",
       "3000      98\n",
       "        ... \n",
       "4800       1\n",
       "13000      1\n",
       "750        1\n",
       "19200      1\n",
       "1800       1\n",
       "Name: Quantity, Length: 201, dtype: int64"
      ]
     },
     "execution_count": 26,
     "metadata": {},
     "output_type": "execute_result"
    }
   ],
   "source": [
    "df[\"Quantity\"].value_counts()"
   ]
  },
  {
   "cell_type": "code",
   "execution_count": 27,
   "metadata": {},
   "outputs": [
    {
     "data": {
      "text/plain": [
       "<AxesSubplot:>"
      ]
     },
     "execution_count": 27,
     "metadata": {},
     "output_type": "execute_result"
    },
    {
     "data": {
      "image/png": "[encoded data removed]",
      "text/plain": [
       "<Figure size 432x288 with 1 Axes>"
      ]
     },
     "metadata": {
      "needs_background": "light"
     },
     "output_type": "display_data"
    }
   ],
   "source": [
    "df[\"Line Amount\"].plot(kind = \"box\")"
   ]
  },
  {
   "cell_type": "code",
   "execution_count": 28,
   "metadata": {},
   "outputs": [
    {
     "data": {
      "text/plain": [
       "<AxesSubplot:ylabel='Frequency'>"
      ]
     },
     "execution_count": 28,
     "metadata": {},
     "output_type": "execute_result"
    },
    {
     "data": {
      "image/png": "[encoded data removed]",
      "text/plain": [
       "<Figure size 432x288 with 1 Axes>"
      ]
     },
     "metadata": {
      "needs_background": "light"
     },
     "output_type": "display_data"
    }
   ],
   "source": [
    "df[\"Line Amount\"].plot(kind = \"hist\")"
   ]
  },
  {
   "cell_type": "code",
   "execution_count": 29,
   "metadata": {},
   "outputs": [
    {
     "data": {
      "text/plain": [
       "500.00       33\n",
       "150.00       32\n",
       "600.00       32\n",
       "0.00         31\n",
       "300.00       29\n",
       "             ..\n",
       "7750.00       1\n",
       "371.25        1\n",
       "3670.00       1\n",
       "19250.00      1\n",
       "229600.00     1\n",
       "Name: Line Amount, Length: 547, dtype: int64"
      ]
     },
     "execution_count": 29,
     "metadata": {},
     "output_type": "execute_result"
    }
   ],
   "source": [
    "df[\"Line Amount\"].value_counts()"
   ]
  },
  {
   "cell_type": "code",
   "execution_count": 30,
   "metadata": {},
   "outputs": [
    {
     "data": {
      "text/html": [
       "<div>\n",
       "<style scoped>\n",
       "    .dataframe tbody tr th:only-of-type {\n",
       "        vertical-align: middle;\n",
       "    }\n",
       "\n",
       "    .dataframe tbody tr th {\n",
       "        vertical-align: top;\n",
       "    }\n",
       "\n",
       "    .dataframe thead th {\n",
       "        text-align: right;\n",
       "    }\n",
       "</style>\n",
       "<table border=\"1\" class=\"dataframe\">\n",
       "  <thead>\n",
       "    <tr style=\"text-align: right;\">\n",
       "      <th></th>\n",
       "      <th>Sl. No.</th>\n",
       "      <th>Number</th>\n",
       "      <th>Invoice</th>\n",
       "      <th>Name</th>\n",
       "      <th>Document Date</th>\n",
       "      <th>Packing slip</th>\n",
       "      <th>Batch number</th>\n",
       "      <th>Product Receipt Date</th>\n",
       "      <th>Item number</th>\n",
       "      <th>Unit</th>\n",
       "      <th>...</th>\n",
       "      <th>Purchase Price</th>\n",
       "      <th>Currency</th>\n",
       "      <th>Line Amount</th>\n",
       "      <th>Item Description</th>\n",
       "      <th>Warehouse</th>\n",
       "      <th>Location</th>\n",
       "      <th>Quantity</th>\n",
       "      <th>Physical cost amount</th>\n",
       "      <th>Financial cost amount</th>\n",
       "      <th>source</th>\n",
       "    </tr>\n",
       "  </thead>\n",
       "  <tbody>\n",
       "    <tr>\n",
       "      <th>1155</th>\n",
       "      <td>1156.0</td>\n",
       "      <td>PO-00011499</td>\n",
       "      <td>NaN</td>\n",
       "      <td>Source Technologi</td>\n",
       "      <td>2018-03-23</td>\n",
       "      <td>N 11658</td>\n",
       "      <td>180407-00269</td>\n",
       "      <td>2018-04-07</td>\n",
       "      <td>RER004035-07</td>\n",
       "      <td>Nos</td>\n",
       "      <td>...</td>\n",
       "      <td>0.15</td>\n",
       "      <td>INR</td>\n",
       "      <td>5250.0</td>\n",
       "      <td>RES SMD 100K OHM 1% 1/8W 0805</td>\n",
       "      <td>REC-WH</td>\n",
       "      <td>RX-EMS</td>\n",
       "      <td>-35000</td>\n",
       "      <td>-5250.00</td>\n",
       "      <td>NaN</td>\n",
       "      <td>SourceTech</td>\n",
       "    </tr>\n",
       "    <tr>\n",
       "      <th>1411</th>\n",
       "      <td>1412.0</td>\n",
       "      <td>PO-00016094</td>\n",
       "      <td>NaN</td>\n",
       "      <td>Source Technologi</td>\n",
       "      <td>2018-08-08</td>\n",
       "      <td>O 5229</td>\n",
       "      <td>180821-00147</td>\n",
       "      <td>2018-08-09</td>\n",
       "      <td>RER009546-09</td>\n",
       "      <td>Nos</td>\n",
       "      <td>...</td>\n",
       "      <td>0.00</td>\n",
       "      <td>INR</td>\n",
       "      <td>7440.0</td>\n",
       "      <td>RES SMT Thick Film 0402 100K Ohm 1% 0.1W(1/10W)</td>\n",
       "      <td>REC-WH</td>\n",
       "      <td>RX-EMS</td>\n",
       "      <td>-30000</td>\n",
       "      <td>-7200.00</td>\n",
       "      <td>NaN</td>\n",
       "      <td>SourceTech</td>\n",
       "    </tr>\n",
       "    <tr>\n",
       "      <th>598</th>\n",
       "      <td>599.0</td>\n",
       "      <td>PO-00011757</td>\n",
       "      <td>NaN</td>\n",
       "      <td>Source Technologi</td>\n",
       "      <td>2018-03-24</td>\n",
       "      <td>N 11720</td>\n",
       "      <td>180327-00001</td>\n",
       "      <td>2018-03-27</td>\n",
       "      <td>REC008950-10</td>\n",
       "      <td>Nos</td>\n",
       "      <td>...</td>\n",
       "      <td>1.75</td>\n",
       "      <td>INR</td>\n",
       "      <td>52500.0</td>\n",
       "      <td>CAP SMT 0.22µF,±10%,10V,0201,X5R</td>\n",
       "      <td>REC-WH</td>\n",
       "      <td>RX-EMS</td>\n",
       "      <td>-30000</td>\n",
       "      <td>-52500.00</td>\n",
       "      <td>NaN</td>\n",
       "      <td>SourceTech</td>\n",
       "    </tr>\n",
       "    <tr>\n",
       "      <th>1335</th>\n",
       "      <td>1336.0</td>\n",
       "      <td>PO-00013190</td>\n",
       "      <td>NaN</td>\n",
       "      <td>Source Technologi</td>\n",
       "      <td>2018-05-11</td>\n",
       "      <td>O 1545</td>\n",
       "      <td>180516-00137</td>\n",
       "      <td>2018-05-16</td>\n",
       "      <td>REC000852-10</td>\n",
       "      <td>Nos</td>\n",
       "      <td>...</td>\n",
       "      <td>0.00</td>\n",
       "      <td>INR</td>\n",
       "      <td>0.0</td>\n",
       "      <td>CAP SMT 0.1µF,±10%,16V,-55°C to +85°C,0402,X5R...</td>\n",
       "      <td>REC-WH</td>\n",
       "      <td>RX-EMS</td>\n",
       "      <td>-25000</td>\n",
       "      <td>-18500.00</td>\n",
       "      <td>NaN</td>\n",
       "      <td>SourceTech</td>\n",
       "    </tr>\n",
       "    <tr>\n",
       "      <th>1337</th>\n",
       "      <td>1338.0</td>\n",
       "      <td>PO-00013190</td>\n",
       "      <td>NaN</td>\n",
       "      <td>Source Technologi</td>\n",
       "      <td>2018-05-11</td>\n",
       "      <td>O 1545</td>\n",
       "      <td>180519-00153</td>\n",
       "      <td>2018-05-16</td>\n",
       "      <td>REC000852-10</td>\n",
       "      <td>Nos</td>\n",
       "      <td>...</td>\n",
       "      <td>0.00</td>\n",
       "      <td>INR</td>\n",
       "      <td>0.0</td>\n",
       "      <td>CAP SMT 0.1µF,±10%,16V,-55°C to +85°C,0402,X5R...</td>\n",
       "      <td>REC-WH</td>\n",
       "      <td>RX-EMS</td>\n",
       "      <td>-25000</td>\n",
       "      <td>-18500.00</td>\n",
       "      <td>NaN</td>\n",
       "      <td>SourceTech</td>\n",
       "    </tr>\n",
       "    <tr>\n",
       "      <th>...</th>\n",
       "      <td>...</td>\n",
       "      <td>...</td>\n",
       "      <td>...</td>\n",
       "      <td>...</td>\n",
       "      <td>...</td>\n",
       "      <td>...</td>\n",
       "      <td>...</td>\n",
       "      <td>...</td>\n",
       "      <td>...</td>\n",
       "      <td>...</td>\n",
       "      <td>...</td>\n",
       "      <td>...</td>\n",
       "      <td>...</td>\n",
       "      <td>...</td>\n",
       "      <td>...</td>\n",
       "      <td>...</td>\n",
       "      <td>...</td>\n",
       "      <td>...</td>\n",
       "      <td>...</td>\n",
       "      <td>...</td>\n",
       "      <td>...</td>\n",
       "    </tr>\n",
       "    <tr>\n",
       "      <th>219</th>\n",
       "      <td>220.0</td>\n",
       "      <td>PO-00023131</td>\n",
       "      <td>P 1144</td>\n",
       "      <td>Source Technologi</td>\n",
       "      <td>2019-04-20</td>\n",
       "      <td>P 1144</td>\n",
       "      <td>190503-00115</td>\n",
       "      <td>2019-04-22</td>\n",
       "      <td>RER000019-08</td>\n",
       "      <td>Nos</td>\n",
       "      <td>...</td>\n",
       "      <td>15.00</td>\n",
       "      <td>INR</td>\n",
       "      <td>18000.0</td>\n",
       "      <td>Res SMT 0201,22R,0.05W,5%,±200ppm/°Cc,Thick Film</td>\n",
       "      <td>REC-WH</td>\n",
       "      <td>RX-EMS</td>\n",
       "      <td>120000</td>\n",
       "      <td>18000.00</td>\n",
       "      <td>18000.00</td>\n",
       "      <td>SourceTech</td>\n",
       "    </tr>\n",
       "    <tr>\n",
       "      <th>1121</th>\n",
       "      <td>1122.0</td>\n",
       "      <td>PO-00023471</td>\n",
       "      <td>P 1538</td>\n",
       "      <td>Source Technologi</td>\n",
       "      <td>2019-05-06</td>\n",
       "      <td>P 1538</td>\n",
       "      <td>190514-00111</td>\n",
       "      <td>2019-05-10</td>\n",
       "      <td>REC001460-06</td>\n",
       "      <td>Nos</td>\n",
       "      <td>...</td>\n",
       "      <td>0.19</td>\n",
       "      <td>INR</td>\n",
       "      <td>28500.0</td>\n",
       "      <td>CAP SMT 0.1µF,±10%,16V,X5R,0201,Ceramic</td>\n",
       "      <td>REC-WH</td>\n",
       "      <td>RX-EMS</td>\n",
       "      <td>150000</td>\n",
       "      <td>28500.00</td>\n",
       "      <td>28665.94</td>\n",
       "      <td>SourceTech</td>\n",
       "    </tr>\n",
       "    <tr>\n",
       "      <th>584</th>\n",
       "      <td>585.0</td>\n",
       "      <td>PO-00010784</td>\n",
       "      <td>N 10641</td>\n",
       "      <td>Source Technologi</td>\n",
       "      <td>2018-03-05</td>\n",
       "      <td>N 10641</td>\n",
       "      <td>180306-00054</td>\n",
       "      <td>2018-03-06</td>\n",
       "      <td>REC001045-10</td>\n",
       "      <td>Nos</td>\n",
       "      <td>...</td>\n",
       "      <td>1.89</td>\n",
       "      <td>INR</td>\n",
       "      <td>378000.0</td>\n",
       "      <td>CAP SMT 4.7µF,±20%,10V,-55°C to +85°C,0402,X5R...</td>\n",
       "      <td>REC-WH</td>\n",
       "      <td>RX-EMS</td>\n",
       "      <td>200000</td>\n",
       "      <td>378000.00</td>\n",
       "      <td>378000.00</td>\n",
       "      <td>SourceTech</td>\n",
       "    </tr>\n",
       "    <tr>\n",
       "      <th>746</th>\n",
       "      <td>747.0</td>\n",
       "      <td>PO-00018279</td>\n",
       "      <td>O 8923</td>\n",
       "      <td>Source Technologi</td>\n",
       "      <td>2018-11-14</td>\n",
       "      <td>O 8923</td>\n",
       "      <td>181120-00156</td>\n",
       "      <td>2018-11-16</td>\n",
       "      <td>REC008950-10</td>\n",
       "      <td>Nos</td>\n",
       "      <td>...</td>\n",
       "      <td>0.88</td>\n",
       "      <td>INR</td>\n",
       "      <td>360800.0</td>\n",
       "      <td>CAP SMT 0.22µF,±10%,10V,0201,X5R</td>\n",
       "      <td>REC-WH</td>\n",
       "      <td>RX-EMS</td>\n",
       "      <td>410000</td>\n",
       "      <td>360800.00</td>\n",
       "      <td>361100.00</td>\n",
       "      <td>SourceTech</td>\n",
       "    </tr>\n",
       "    <tr>\n",
       "      <th>1607</th>\n",
       "      <td>NaN</td>\n",
       "      <td>NaN</td>\n",
       "      <td>NaN</td>\n",
       "      <td>NaN</td>\n",
       "      <td>NaT</td>\n",
       "      <td>NaN</td>\n",
       "      <td>NaN</td>\n",
       "      <td>NaT</td>\n",
       "      <td>NaN</td>\n",
       "      <td>NaN</td>\n",
       "      <td>...</td>\n",
       "      <td>NaN</td>\n",
       "      <td>NaN</td>\n",
       "      <td>NaN</td>\n",
       "      <td>NaN</td>\n",
       "      <td>NaN</td>\n",
       "      <td>NaN</td>\n",
       "      <td>7499100</td>\n",
       "      <td>12725462.21</td>\n",
       "      <td>12806183.21</td>\n",
       "      <td>SourceTech</td>\n",
       "    </tr>\n",
       "  </tbody>\n",
       "</table>\n",
       "<p>1614 rows × 22 columns</p>\n",
       "</div>"
      ],
      "text/plain": [
       "      Sl. No.       Number  Invoice               Name Document Date  \\\n",
       "1155   1156.0  PO-00011499      NaN  Source Technologi    2018-03-23   \n",
       "1411   1412.0  PO-00016094      NaN  Source Technologi    2018-08-08   \n",
       "598     599.0  PO-00011757      NaN  Source Technologi    2018-03-24   \n",
       "1335   1336.0  PO-00013190      NaN  Source Technologi    2018-05-11   \n",
       "1337   1338.0  PO-00013190      NaN  Source Technologi    2018-05-11   \n",
       "...       ...          ...      ...                ...           ...   \n",
       "219     220.0  PO-00023131   P 1144  Source Technologi    2019-04-20   \n",
       "1121   1122.0  PO-00023471   P 1538  Source Technologi    2019-05-06   \n",
       "584     585.0  PO-00010784  N 10641  Source Technologi    2018-03-05   \n",
       "746     747.0  PO-00018279   O 8923  Source Technologi    2018-11-14   \n",
       "1607      NaN          NaN      NaN                NaN           NaT   \n",
       "\n",
       "     Packing slip  Batch number Product Receipt Date   Item number Unit  ...  \\\n",
       "1155      N 11658  180407-00269           2018-04-07  RER004035-07  Nos  ...   \n",
       "1411       O 5229  180821-00147           2018-08-09  RER009546-09  Nos  ...   \n",
       "598       N 11720  180327-00001           2018-03-27  REC008950-10  Nos  ...   \n",
       "1335       O 1545  180516-00137           2018-05-16  REC000852-10  Nos  ...   \n",
       "1337       O 1545  180519-00153           2018-05-16  REC000852-10  Nos  ...   \n",
       "...           ...           ...                  ...           ...  ...  ...   \n",
       "219        P 1144  190503-00115           2019-04-22  RER000019-08  Nos  ...   \n",
       "1121       P 1538  190514-00111           2019-05-10  REC001460-06  Nos  ...   \n",
       "584       N 10641  180306-00054           2018-03-06  REC001045-10  Nos  ...   \n",
       "746        O 8923  181120-00156           2018-11-16  REC008950-10  Nos  ...   \n",
       "1607          NaN           NaN                  NaT           NaN  NaN  ...   \n",
       "\n",
       "     Purchase Price Currency  Line Amount  \\\n",
       "1155           0.15      INR       5250.0   \n",
       "1411           0.00      INR       7440.0   \n",
       "598            1.75      INR      52500.0   \n",
       "1335           0.00      INR          0.0   \n",
       "1337           0.00      INR          0.0   \n",
       "...             ...      ...          ...   \n",
       "219           15.00      INR      18000.0   \n",
       "1121           0.19      INR      28500.0   \n",
       "584            1.89      INR     378000.0   \n",
       "746            0.88      INR     360800.0   \n",
       "1607            NaN      NaN          NaN   \n",
       "\n",
       "                                       Item Description  Warehouse Location  \\\n",
       "1155                      RES SMD 100K OHM 1% 1/8W 0805     REC-WH   RX-EMS   \n",
       "1411    RES SMT Thick Film 0402 100K Ohm 1% 0.1W(1/10W)     REC-WH   RX-EMS   \n",
       "598                    CAP SMT 0.22µF,±10%,10V,0201,X5R     REC-WH   RX-EMS   \n",
       "1335  CAP SMT 0.1µF,±10%,16V,-55°C to +85°C,0402,X5R...     REC-WH   RX-EMS   \n",
       "1337  CAP SMT 0.1µF,±10%,16V,-55°C to +85°C,0402,X5R...     REC-WH   RX-EMS   \n",
       "...                                                 ...        ...      ...   \n",
       "219    Res SMT 0201,22R,0.05W,5%,±200ppm/°Cc,Thick Film     REC-WH   RX-EMS   \n",
       "1121            CAP SMT 0.1µF,±10%,16V,X5R,0201,Ceramic     REC-WH   RX-EMS   \n",
       "584   CAP SMT 4.7µF,±20%,10V,-55°C to +85°C,0402,X5R...     REC-WH   RX-EMS   \n",
       "746                    CAP SMT 0.22µF,±10%,10V,0201,X5R     REC-WH   RX-EMS   \n",
       "1607                                                NaN        NaN      NaN   \n",
       "\n",
       "     Quantity Physical cost amount  Financial cost amount      source  \n",
       "1155   -35000             -5250.00                    NaN  SourceTech  \n",
       "1411   -30000             -7200.00                    NaN  SourceTech  \n",
       "598    -30000            -52500.00                    NaN  SourceTech  \n",
       "1335   -25000            -18500.00                    NaN  SourceTech  \n",
       "1337   -25000            -18500.00                    NaN  SourceTech  \n",
       "...       ...                  ...                    ...         ...  \n",
       "219    120000             18000.00               18000.00  SourceTech  \n",
       "1121   150000             28500.00               28665.94  SourceTech  \n",
       "584    200000            378000.00              378000.00  SourceTech  \n",
       "746    410000            360800.00              361100.00  SourceTech  \n",
       "1607  7499100          12725462.21            12806183.21  SourceTech  \n",
       "\n",
       "[1614 rows x 22 columns]"
      ]
     },
     "execution_count": 30,
     "metadata": {},
     "output_type": "execute_result"
    }
   ],
   "source": [
    "df.sort_values(by = [\"Quantity\", \"Line Amount\"])"
   ]
  },
  {
   "cell_type": "code",
   "execution_count": 31,
   "metadata": {},
   "outputs": [],
   "source": [
    "df.loc[df[\"Line Amount\"] == 0.000000,\"Line Amount\"] = np.NAN"
   ]
  },
  {
   "cell_type": "code",
   "execution_count": 32,
   "metadata": {},
   "outputs": [
    {
     "data": {
      "text/plain": [
       "33"
      ]
     },
     "execution_count": 32,
     "metadata": {},
     "output_type": "execute_result"
    }
   ],
   "source": [
    "df[\"Line Amount\"].isna().sum()"
   ]
  },
  {
   "cell_type": "code",
   "execution_count": 33,
   "metadata": {},
   "outputs": [
    {
     "data": {
      "text/plain": [
       "<AxesSubplot:ylabel='Frequency'>"
      ]
     },
     "execution_count": 33,
     "metadata": {},
     "output_type": "execute_result"
    },
    {
     "data": {
      "image/png": "[encoded data removed]",
      "text/plain": [
       "<Figure size 432x288 with 1 Axes>"
      ]
     },
     "metadata": {
      "needs_background": "light"
     },
     "output_type": "display_data"
    }
   ],
   "source": [
    "df[\"Line Amount\"].plot(kind = \"hist\")"
   ]
  },
  {
   "cell_type": "code",
   "execution_count": 34,
   "metadata": {},
   "outputs": [
    {
     "data": {
      "text/plain": [
       "0.00       378\n",
       "0.20        58\n",
       "0.15        50\n",
       "0.40        43\n",
       "0.25        38\n",
       "          ... \n",
       "13.89        1\n",
       "1.29         1\n",
       "13.61        1\n",
       "60.01        1\n",
       "1844.00      1\n",
       "Name: Purchase Price, Length: 264, dtype: int64"
      ]
     },
     "execution_count": 34,
     "metadata": {},
     "output_type": "execute_result"
    }
   ],
   "source": [
    "df[\"Purchase Price\"].value_counts()"
   ]
  },
  {
   "cell_type": "code",
   "execution_count": 35,
   "metadata": {},
   "outputs": [
    {
     "data": {
      "text/plain": [
       "Index(['Sl. No.', 'Number', 'Invoice', 'Name', 'Document Date', 'Packing slip',\n",
       "       'Batch number', 'Product Receipt Date', 'Item number', 'Unit',\n",
       "       'Financial date', 'Physical date', 'Purchase Price', 'Currency',\n",
       "       'Line Amount', 'Item Description', 'Warehouse', 'Location', 'Quantity',\n",
       "       'Physical cost amount', 'Financial cost amount', 'source'],\n",
       "      dtype='object')"
      ]
     },
     "execution_count": 35,
     "metadata": {},
     "output_type": "execute_result"
    }
   ],
   "source": [
    "df.columns"
   ]
  },
  {
   "cell_type": "code",
   "execution_count": 36,
   "metadata": {},
   "outputs": [
    {
     "data": {
      "text/plain": [
       "60"
      ]
     },
     "execution_count": 36,
     "metadata": {},
     "output_type": "execute_result"
    }
   ],
   "source": [
    "df[\"Financial cost amount\"].isna().sum()"
   ]
  },
  {
   "cell_type": "code",
   "execution_count": 37,
   "metadata": {},
   "outputs": [
    {
     "data": {
      "text/plain": [
       "<AxesSubplot:ylabel='Frequency'>"
      ]
     },
     "execution_count": 37,
     "metadata": {},
     "output_type": "execute_result"
    },
    {
     "data": {
      "image/png": "[encoded data removed]",
      "text/plain": [
       "<Figure size 432x288 with 1 Axes>"
      ]
     },
     "metadata": {
      "needs_background": "light"
     },
     "output_type": "display_data"
    }
   ],
   "source": [
    "df[\"Financial cost amount\"].plot(kind = \"hist\")"
   ]
  },
  {
   "cell_type": "code",
   "execution_count": 38,
   "metadata": {},
   "outputs": [
    {
     "data": {
      "text/plain": [
       "INR    1610\n",
       "USD       2\n",
       "Name: Currency, dtype: int64"
      ]
     },
     "execution_count": 38,
     "metadata": {},
     "output_type": "execute_result"
    }
   ],
   "source": [
    "df[\"Currency\"].value_counts()"
   ]
  },
  {
   "cell_type": "code",
   "execution_count": 39,
   "metadata": {},
   "outputs": [
    {
     "data": {
      "text/plain": [
       "2"
      ]
     },
     "execution_count": 39,
     "metadata": {},
     "output_type": "execute_result"
    }
   ],
   "source": [
    "df[\"Currency\"].nunique()"
   ]
  },
  {
   "cell_type": "code",
   "execution_count": 40,
   "metadata": {},
   "outputs": [
    {
     "data": {
      "text/plain": [
       "2"
      ]
     },
     "execution_count": 40,
     "metadata": {},
     "output_type": "execute_result"
    }
   ],
   "source": [
    "df[\"Currency\"].isna().sum()"
   ]
  },
  {
   "cell_type": "code",
   "execution_count": 41,
   "metadata": {},
   "outputs": [
    {
     "data": {
      "text/plain": [
       "2"
      ]
     },
     "execution_count": 41,
     "metadata": {},
     "output_type": "execute_result"
    }
   ],
   "source": [
    "df[\"Item Description\"].isna().sum()"
   ]
  },
  {
   "cell_type": "code",
   "execution_count": 42,
   "metadata": {},
   "outputs": [
    {
     "data": {
      "text/plain": [
       "Res SMT 60.4?,±0.5%,0.25W,±25ppm/°C,1210,Thin Flim         25\n",
       "Res SMT 110K?,±1%,0.1W,±25PPM/°C,0603,Thin Flim            15\n",
       "CAP SMT 1µF,±10%,10V,0402,X5R,Ceramic                      13\n",
       "Res SMT 82.5K?,±1%,0.063W,±25ppm/°C,0603,Thin Flim         13\n",
       "CAP SMT 0.1µF,±10%,50V,-55°C to +125°C,0603,X7R,Ceramic    12\n",
       "                                                           ..\n",
       "Capacitors MLCC - SMD/SMT 10UF 20% 6.3V,0402                1\n",
       "CAP SMT 10µF,25V,X7R,1206                                   1\n",
       "RESISTOR THKF CH 1M ±1% 0.25W ,1206,SMT,RoHS\\n              1\n",
       "SMD Ceramic Capacitor 100nF +/-10% 25V X7R/X5R 0603         1\n",
       "RES SMD 2K OHM 1% 1/20W 0201                                1\n",
       "Name: Item Description, Length: 978, dtype: int64"
      ]
     },
     "execution_count": 42,
     "metadata": {},
     "output_type": "execute_result"
    }
   ],
   "source": [
    "df[\"Item Description\"].value_counts()"
   ]
  },
  {
   "cell_type": "code",
   "execution_count": 43,
   "metadata": {},
   "outputs": [
    {
     "data": {
      "text/plain": [
       "978"
      ]
     },
     "execution_count": 43,
     "metadata": {},
     "output_type": "execute_result"
    }
   ],
   "source": [
    "df[\"Item Description\"].nunique()"
   ]
  },
  {
   "cell_type": "code",
   "execution_count": 44,
   "metadata": {},
   "outputs": [
    {
     "data": {
      "text/plain": [
       "Item Description                                              Currency\n",
       "\"CAP , SMT , CER 3300PF 50V X7R 0603\"                         INR         1\n",
       "\"CAP FXD CH CERG 22KpF\\n+-10%100V\"                            INR         1\n",
       "\"CAP SMT 0.1µF,±10%,50V,-55°C to +125°C,0603,X7R,Ceramic\"     INR         1\n",
       "\"CAP SMT 0.1µF,±10%,50V,X7R,1206,Ceramic\"                     INR         1\n",
       "\"CAP SMT 10µF,±10%,10V,55°C to +85°C,0603,X5R,Ceramic\"        INR         1\n",
       "                                                                         ..\n",
       "Thin Film Resistors - SMD 1/8W 1.45K Ohms 0.1%                INR         1\n",
       "Transistor SMT MOSFET,N-CH,60V,300MA, SOT23                   INR         3\n",
       "Z-diode 0, 5W 13V 5% Minimelf                                 INR         2\n",
       "Zener Diodes THT 56V                                          INR         1\n",
       "need to use new internalP/N REC000735-10(GRM155R61A105KE15D)  INR         3\n",
       "Name: Currency, Length: 979, dtype: int64"
      ]
     },
     "execution_count": 44,
     "metadata": {},
     "output_type": "execute_result"
    }
   ],
   "source": [
    "df.groupby(\"Item Description\").Currency.value_counts()"
   ]
  },
  {
   "cell_type": "code",
   "execution_count": 45,
   "metadata": {},
   "outputs": [],
   "source": [
    "from datetime import datetime"
   ]
  },
  {
   "cell_type": "code",
   "execution_count": 46,
   "metadata": {},
   "outputs": [
    {
     "data": {
      "text/plain": [
       "2022"
      ]
     },
     "execution_count": 46,
     "metadata": {},
     "output_type": "execute_result"
    }
   ],
   "source": [
    "datetime.now().year"
   ]
  },
  {
   "cell_type": "code",
   "execution_count": 47,
   "metadata": {},
   "outputs": [
    {
     "data": {
      "text/plain": [
       "900.0       33\n",
       "450.0       33\n",
       "600.0       33\n",
       "150.0       32\n",
       "500.0       32\n",
       "            ..\n",
       "5360.0       1\n",
       "378.0        1\n",
       "1620.0       1\n",
       "4880.0       1\n",
       "229600.0     1\n",
       "Name: Physical cost amount, Length: 604, dtype: int64"
      ]
     },
     "execution_count": 47,
     "metadata": {},
     "output_type": "execute_result"
    }
   ],
   "source": [
    "df[\"Physical cost amount\"].value_counts()"
   ]
  },
  {
   "cell_type": "code",
   "execution_count": 48,
   "metadata": {},
   "outputs": [],
   "source": [
    "del df[\"Item Description\"]"
   ]
  },
  {
   "cell_type": "code",
   "execution_count": 49,
   "metadata": {},
   "outputs": [
    {
     "data": {
      "text/plain": [
       "2"
      ]
     },
     "execution_count": 49,
     "metadata": {},
     "output_type": "execute_result"
    }
   ],
   "source": [
    "df[\"Packing slip\"].isna().sum()"
   ]
  },
  {
   "cell_type": "code",
   "execution_count": 50,
   "metadata": {},
   "outputs": [
    {
     "data": {
      "text/plain": [
       "O 5868     22\n",
       "O 3561     18\n",
       "N 2908     17\n",
       "O 2862     17\n",
       "P 1146     14\n",
       "           ..\n",
       "O 12293     1\n",
       "N 2464      1\n",
       "Q 515       1\n",
       "P 8558      1\n",
       "O 7446      1\n",
       "Name: Packing slip, Length: 864, dtype: int64"
      ]
     },
     "execution_count": 50,
     "metadata": {},
     "output_type": "execute_result"
    }
   ],
   "source": [
    "df[\"Packing slip\"].value_counts()"
   ]
  },
  {
   "cell_type": "code",
   "execution_count": 51,
   "metadata": {},
   "outputs": [
    {
     "data": {
      "text/html": [
       "<div>\n",
       "<style scoped>\n",
       "    .dataframe tbody tr th:only-of-type {\n",
       "        vertical-align: middle;\n",
       "    }\n",
       "\n",
       "    .dataframe tbody tr th {\n",
       "        vertical-align: top;\n",
       "    }\n",
       "\n",
       "    .dataframe thead th {\n",
       "        text-align: right;\n",
       "    }\n",
       "</style>\n",
       "<table border=\"1\" class=\"dataframe\">\n",
       "  <thead>\n",
       "    <tr style=\"text-align: right;\">\n",
       "      <th></th>\n",
       "      <th>Sl. No.</th>\n",
       "      <th>Purchase Price</th>\n",
       "      <th>Line Amount</th>\n",
       "      <th>Quantity</th>\n",
       "      <th>Physical cost amount</th>\n",
       "      <th>Financial cost amount</th>\n",
       "    </tr>\n",
       "  </thead>\n",
       "  <tbody>\n",
       "    <tr>\n",
       "      <th>Sl. No.</th>\n",
       "      <td>1.000000</td>\n",
       "      <td>-0.315352</td>\n",
       "      <td>-0.178121</td>\n",
       "      <td>0.035396</td>\n",
       "      <td>-0.143615</td>\n",
       "      <td>-0.139947</td>\n",
       "    </tr>\n",
       "    <tr>\n",
       "      <th>Purchase Price</th>\n",
       "      <td>-0.315352</td>\n",
       "      <td>1.000000</td>\n",
       "      <td>0.078726</td>\n",
       "      <td>-0.010520</td>\n",
       "      <td>0.086793</td>\n",
       "      <td>0.085273</td>\n",
       "    </tr>\n",
       "    <tr>\n",
       "      <th>Line Amount</th>\n",
       "      <td>-0.178121</td>\n",
       "      <td>0.078726</td>\n",
       "      <td>1.000000</td>\n",
       "      <td>0.424554</td>\n",
       "      <td>0.883700</td>\n",
       "      <td>0.890361</td>\n",
       "    </tr>\n",
       "    <tr>\n",
       "      <th>Quantity</th>\n",
       "      <td>0.035396</td>\n",
       "      <td>-0.010520</td>\n",
       "      <td>0.424554</td>\n",
       "      <td>1.000000</td>\n",
       "      <td>0.996198</td>\n",
       "      <td>0.996276</td>\n",
       "    </tr>\n",
       "    <tr>\n",
       "      <th>Physical cost amount</th>\n",
       "      <td>-0.143615</td>\n",
       "      <td>0.086793</td>\n",
       "      <td>0.883700</td>\n",
       "      <td>0.996198</td>\n",
       "      <td>1.000000</td>\n",
       "      <td>1.000000</td>\n",
       "    </tr>\n",
       "    <tr>\n",
       "      <th>Financial cost amount</th>\n",
       "      <td>-0.139947</td>\n",
       "      <td>0.085273</td>\n",
       "      <td>0.890361</td>\n",
       "      <td>0.996276</td>\n",
       "      <td>1.000000</td>\n",
       "      <td>1.000000</td>\n",
       "    </tr>\n",
       "  </tbody>\n",
       "</table>\n",
       "</div>"
      ],
      "text/plain": [
       "                        Sl. No.  Purchase Price  Line Amount  Quantity  \\\n",
       "Sl. No.                1.000000       -0.315352    -0.178121  0.035396   \n",
       "Purchase Price        -0.315352        1.000000     0.078726 -0.010520   \n",
       "Line Amount           -0.178121        0.078726     1.000000  0.424554   \n",
       "Quantity               0.035396       -0.010520     0.424554  1.000000   \n",
       "Physical cost amount  -0.143615        0.086793     0.883700  0.996198   \n",
       "Financial cost amount -0.139947        0.085273     0.890361  0.996276   \n",
       "\n",
       "                       Physical cost amount  Financial cost amount  \n",
       "Sl. No.                           -0.143615              -0.139947  \n",
       "Purchase Price                     0.086793               0.085273  \n",
       "Line Amount                        0.883700               0.890361  \n",
       "Quantity                           0.996198               0.996276  \n",
       "Physical cost amount               1.000000               1.000000  \n",
       "Financial cost amount              1.000000               1.000000  "
      ]
     },
     "execution_count": 51,
     "metadata": {},
     "output_type": "execute_result"
    }
   ],
   "source": [
    "df.corr()"
   ]
  },
  {
   "cell_type": "code",
   "execution_count": 55,
   "metadata": {},
   "outputs": [],
   "source": [
    "#syntax for line plot\n",
    "\n",
    "#plot(x,y)"
   ]
  },
  {
   "cell_type": "code",
   "execution_count": 56,
   "metadata": {},
   "outputs": [],
   "source": [
    "import matplotlib.pyplot as plt\n",
    "import numpy as np\n",
    "import pandas as pd"
   ]
  },
  {
   "cell_type": "code",
   "execution_count": 57,
   "metadata": {},
   "outputs": [
    {
     "ename": "SyntaxError",
     "evalue": "invalid syntax (<ipython-input-57-f21bfcddec22>, line 1)",
     "output_type": "error",
     "traceback": [
      "\u001b[1;36m  File \u001b[1;32m\"<ipython-input-57-f21bfcddec22>\"\u001b[1;36m, line \u001b[1;32m1\u001b[0m\n\u001b[1;33m    x=np.arangePurchase Price\u001b[0m\n\u001b[1;37m                        ^\u001b[0m\n\u001b[1;31mSyntaxError\u001b[0m\u001b[1;31m:\u001b[0m invalid syntax\n"
     ]
    }
   ],
   "source": [
    "x=np.arangePurchase Price\n",
    "y=Quantity"
   ]
  },
  {
   "cell_type": "code",
   "execution_count": null,
   "metadata": {},
   "outputs": [],
   "source": []
  }
 ],
 "metadata": {
  "kernelspec": {
   "display_name": "Python 3 (ipykernel)",
   "language": "python",
   "name": "python3"
  },
  "language_info": {
   "codemirror_mode": {
    "name": "ipython",
    "version": 3
   },
   "file_extension": ".py",
   "mimetype": "text/x-python",
   "name": "python",
   "nbconvert_exporter": "python",
   "pygments_lexer": "ipython3",
   "version": "3.9.13"
  }
 },
 "nbformat": 4,
 "nbformat_minor": 4
}
